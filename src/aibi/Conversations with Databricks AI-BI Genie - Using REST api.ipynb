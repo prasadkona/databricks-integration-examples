{
 "cells": [
  {
   "cell_type": "markdown",
   "metadata": {
    "application/vnd.databricks.v1+cell": {
     "cellMetadata": {},
     "inputWidgets": {},
     "nuid": "aebb42c6-45bb-4f29-9153-2080db5364e4",
     "showTitle": false,
     "tableResultSettingsMap": {},
     "title": ""
    }
   },
   "source": [
    "# Conversations with Databricks AI-BI Genie - Using REST api\n",
    "\n",
    "In this notebook we walk you through how to use the Genie conversation api to chat with your data.\n",
    "\n",
    "This example leverages the Databricks REST api's"
   ]
  },
  {
   "cell_type": "markdown",
   "metadata": {
    "application/vnd.databricks.v1+cell": {
     "cellMetadata": {},
     "inputWidgets": {},
     "nuid": "fafbc4da-23d3-47a3-a1c9-1e79d93e93e8",
     "showTitle": false,
     "tableResultSettingsMap": {},
     "title": ""
    }
   },
   "source": [
    "\n",
    "## What is an AI/BI Genie space\n",
    "AI/BI Genie, allows business teams to interact with their data using natural language. It uses generative AI tailored to your organization’s terminology and data, with the ability to monitor and refine its performance through user feedback.\n",
    "\n",
    "## Overview\n",
    "Domain experts, such as data analysts, configure Genie spaces with datasets, sample queries, and text guidelines to help Genie translate business questions into analytical queries. After set up, business users can ask questions and generate visualizations to understand operational data. Genie’s semantic knowledge gets updated as your data changes and users pose new questions. ![](path)\n",
    "\n",
    "AI/BI Genie selects relevant names and descriptions from annotated tables and columns to convert natural language questions to an equivalent SQL query. Then, it responds with the generated query and results table, if possible. If Genie can’t generate an answer, it can ask follow-up questions to clarify before providing a response."
   ]
  },
  {
   "cell_type": "markdown",
   "metadata": {
    "application/vnd.databricks.v1+cell": {
     "cellMetadata": {},
     "inputWidgets": {},
     "nuid": "af6b161b-e9bd-417f-a785-0452569eff46",
     "showTitle": false,
     "tableResultSettingsMap": {},
     "title": ""
    }
   },
   "source": [
    "\n",
    "## Learn more at\n",
    "\n",
    "* Documentation page https://docs.databricks.com/aws/en/genie/\n",
    "* API docs (REST) : https://docs.databricks.com/api/workspace/genie\n",
    "* API docs (Databricks Python SDK) : https://databricks-sdk-py.readthedocs.io/en/latest/workspace/dashboards/genie.html\n"
   ]
  },
  {
   "cell_type": "code",
   "execution_count": 0,
   "metadata": {
    "application/vnd.databricks.v1+cell": {
     "cellMetadata": {
      "byteLimit": 2048000,
      "rowLimit": 10000
     },
     "inputWidgets": {},
     "nuid": "65b1bf1f-046b-476d-bc3e-5c8368d24d03",
     "showTitle": true,
     "tableResultSettingsMap": {},
     "title": "Calling Genie Conversation API"
    }
   },
   "outputs": [],
   "source": [
    "import requests\n",
    "import time\n",
    "import json\n",
    "\n",
    "\n",
    "# Get the token stored using dbutils\n",
    "token = dbutils.secrets.get(scope=\"<databricks_secrets_scope_name>\", key=\"DATABRICKS_TOKEN\")\n",
    "host = \"<databricks_workspace_host_name>\"\n",
    "\n",
    "def genie_conversation(space_id, initial_question, follow_up_questions=None, n_follow_ups=0, host=None, token=None):\n",
    "    \"\"\"\n",
    "    Perform a conversation using Databricks Genie Conversation APIs.\n",
    "    \n",
    "    Args:\n",
    "    space_id (str): ID of the Genie space\n",
    "    initial_question (str): The initial question to ask\n",
    "    follow_up_questions (list, optional): A list of follow-up questions\n",
    "    n_follow_ups (int): Number of follow-up questions to ask\n",
    "    host (str): Databricks workspace instance name\n",
    "    token (str): Databricks authentication token\n",
    "    \n",
    "    Returns:\n",
    "    dict: Conversation results including questions, answers, and SQL results\n",
    "    \"\"\"\n",
    "    if not host or not token:\n",
    "        raise ValueError(\"Host and token must be provided\")\n",
    "\n",
    "    headers = {'Authorization': f'Bearer {token}'}\n",
    "    base_url = f\"https://{host}/api/2.0/genie/spaces/{space_id}\"\n",
    "\n",
    "    def api_request(method, endpoint, data=None):\n",
    "        url = f\"{base_url}/{endpoint}\"\n",
    "        response = requests.request(method, url, headers=headers, json=data)\n",
    "        response.raise_for_status()\n",
    "        return response.json()\n",
    "\n",
    "    def wait_for_completion(conversation_id, message_id):\n",
    "        while True:\n",
    "            response = api_request('GET', f\"conversations/{conversation_id}/messages/{message_id}\")\n",
    "            status = response.get('status')\n",
    "            if status == 'COMPLETED':\n",
    "                return response\n",
    "            elif status in ['FAILED', 'CANCELLED', 'QUERY_RESULT_EXPIRED']:\n",
    "                raise Exception(f\"Message processing {status}\")\n",
    "            time.sleep(5)\n",
    "\n",
    "    def get_query_result(conversation_id, message_id, attachment_id):\n",
    "        while True:\n",
    "            response = api_request('GET', f\"conversations/{conversation_id}/messages/{message_id}/query-result/{attachment_id}\")\n",
    "            state = response['statement_response']['status']['state']\n",
    "            if state == 'SUCCEEDED':\n",
    "                return response['statement_response']['result']\n",
    "            elif state in ['RUNNING', 'PENDING']:\n",
    "                time.sleep(5)\n",
    "            else:\n",
    "                return None\n",
    "\n",
    "    # Start conversation\n",
    "    initial_response = api_request('POST', 'start-conversation', {'content': initial_question})\n",
    "    conversation_id = initial_response['conversation_id']\n",
    "    initial_message_id = initial_response['message_id']\n",
    "\n",
    "    # Wait for initial question completion\n",
    "    initial_message = wait_for_completion(conversation_id, initial_message_id)\n",
    "\n",
    "    result = {\n",
    "        'initial_question': initial_question,\n",
    "        'initial_answer': initial_message.get('content'),\n",
    "        'initial_sql_result': None,\n",
    "        'initial_sql_text': None\n",
    "    }\n",
    "\n",
    "    # Get SQL result if available\n",
    "    for attachment in initial_message.get('attachments', []):\n",
    "        result['initial_sql_text'] = attachment['query']['query']\n",
    "        result['initial_answer'] = attachment['query']['description']\n",
    "        result['initial_sql_result'] = get_query_result(conversation_id, initial_message_id, attachment['attachment_id'])\n",
    "\n",
    "    # Handle follow-up questions\n",
    "    follow_up_results = []\n",
    "    if follow_up_questions and n_follow_ups > 0:\n",
    "        for i in range(min(n_follow_ups, len(follow_up_questions))):\n",
    "            follow_up_question = follow_up_questions[i]\n",
    "            follow_up_response = api_request('POST', f\"conversations/{conversation_id}/messages\", {'content': follow_up_question})\n",
    "            follow_up_message_id = follow_up_response['message_id']\n",
    "\n",
    "            follow_up_message = wait_for_completion(conversation_id, follow_up_message_id)\n",
    "\n",
    "            follow_up_result = {\n",
    "                'sequence_number': i + 1,\n",
    "                'follow_up_question': follow_up_question,\n",
    "                'follow_up_answer': follow_up_message.get('content'),\n",
    "                'follow_up_sql_result': None,\n",
    "                'follow_up_sql_text': None\n",
    "            }\n",
    "\n",
    "            # Get SQL result for follow-up if available\n",
    "            for attachment in follow_up_message.get('attachments', []):\n",
    "                follow_up_result['follow_up_sql_text'] = attachment['query']['query']\n",
    "                follow_up_result['follow_up_answer'] = attachment['query']['description']\n",
    "                follow_up_result['follow_up_sql_result'] = get_query_result(conversation_id, follow_up_message_id, attachment['attachment_id'])\n",
    "\n",
    "            follow_up_results.append(follow_up_result)\n",
    "\n",
    "    result['follow_up_results'] = follow_up_results\n",
    "    return result\n",
    "\n"
   ]
  },
  {
   "cell_type": "code",
   "execution_count": 0,
   "metadata": {
    "application/vnd.databricks.v1+cell": {
     "cellMetadata": {
      "byteLimit": 2048000,
      "rowLimit": 10000
     },
     "inputWidgets": {},
     "nuid": "41cb27e4-955d-486e-9ce0-62e4149ad845",
     "showTitle": false,
     "tableResultSettingsMap": {},
     "title": ""
    }
   },
   "outputs": [
    {
     "output_type": "stream",
     "name": "stdout",
     "output_type": "stream",
     "text": [
      "{\n  \"initial_question\": \"Which industries have shown the highest engagement rates with marketing campaigns?\",\n  \"initial_answer\": \"This analysis provides the number of engagement events, specifically clicks, categorized by industry. It combines data from event records, contact details, and prospect information to count how many clicks occurred for each industry, sorted by the highest engagement.\",\n  \"initial_sql_result\": {\n    \"chunk_index\": 0,\n    \"row_offset\": 0,\n    \"row_count\": 10,\n    \"data_array\": [\n      [\n        \"Education\",\n        \"2396\"\n      ],\n      [\n        \"Biotechnology\",\n        \"1891\"\n      ],\n      [\n        \"Chemical\",\n        \"1697\"\n      ],\n      [\n        \"Consulting\",\n        \"1654\"\n      ],\n      [\n        \"Automotive\",\n        \"1484\"\n      ],\n      [\n        \"Advertising\",\n        \"1265\"\n      ],\n      [\n        \"Banking\",\n        \"1225\"\n      ],\n      [\n        \"Construction\",\n        \"875\"\n      ],\n      [\n        \"Consumer Goods\",\n        \"527\"\n      ],\n      [\n        \"Agriculture\",\n        \"339\"\n      ]\n    ]\n  },\n  \"initial_sql_text\": \"SELECT p.industry, COUNT(*) as engagement_count FROM `main`.`dbdemos_aibi_cme_marketing_campaign`.`events` e INNER JOIN `main`.`dbdemos_aibi_cme_marketing_campaign`.`contacts` ct ON e.contact_id = ct.contact_id INNER JOIN `main`.`dbdemos_aibi_cme_marketing_campaign`.`prospects` p ON ct.prospect_id = p.prospect_id WHERE e.event_type = 'click' GROUP BY p.industry ORDER BY engagement_count DESC\",\n  \"follow_up_results\": [\n    {\n      \"sequence_number\": 1,\n      \"follow_up_question\": \"how many prospects for construction?\",\n      \"follow_up_answer\": \"This query provides the total number of prospects within the construction industry. It filters the prospects based on their industry classification to count only those relevant to construction.\",\n      \"follow_up_sql_result\": {\n        \"chunk_index\": 0,\n        \"row_offset\": 0,\n        \"row_count\": 1,\n        \"data_array\": [\n          [\n            \"3\"\n          ]\n        ]\n      },\n      \"follow_up_sql_text\": \"SELECT COUNT(*) as prospect_count FROM `main`.`dbdemos_aibi_cme_marketing_campaign`.`prospects` WHERE `industry` ILIKE '%construction%'\"\n    },\n    {\n      \"sequence_number\": 2,\n      \"follow_up_question\": \"what are the top three industries?\",\n      \"follow_up_answer\": \"This query identifies the top three industries with the highest number of prospects, providing a count of prospects for each industry. The results are sorted in descending order based on the number of prospects.\",\n      \"follow_up_sql_result\": {\n        \"chunk_index\": 0,\n        \"row_offset\": 0,\n        \"row_count\": 3,\n        \"data_array\": [\n          [\n            \"Education\",\n            \"9\"\n          ],\n          [\n            \"Biotechnology\",\n            \"7\"\n          ],\n          [\n            \"Automotive\",\n            \"6\"\n          ]\n        ]\n      },\n      \"follow_up_sql_text\": \"SELECT `industry`, COUNT(*) as prospect_count FROM `main`.`dbdemos_aibi_cme_marketing_campaign`.`prospects` GROUP BY `industry` ORDER BY prospect_count DESC LIMIT 3\"\n    }\n  ]\n}\n"
     ]
    }
   ],
   "source": [
    "# Example usage:\n",
    "result = genie_conversation(\n",
    "     space_id=\"01f00ab3b6441e93b89ebeb1bbd3d00f\",\n",
    "     initial_question=\"Which industries have shown the highest engagement rates with marketing campaigns?\",\n",
    "     follow_up_questions=[\"how many prospects for construction?\", \"what are the top three industries?\"],\n",
    "     n_follow_ups=2,\n",
    "     host=host,\n",
    "     token=token\n",
    ")\n",
    "print(json.dumps(result, indent=2))"
   ]
  }
 ],
 "metadata": {
  "application/vnd.databricks.v1+notebook": {
   "computePreferences": null,
   "dashboards": [],
   "environmentMetadata": {
    "base_environment": "",
    "environment_version": "2"
   },
   "inputWidgetPreferences": null,
   "language": "python",
   "notebookMetadata": {
    "pythonIndentUnit": 2
   },
   "notebookName": "Conversations with Databricks AI-BI Genie - Using REST api",
   "widgets": {}
  },
  "language_info": {
   "name": "python"
  }
 },
 "nbformat": 4,
 "nbformat_minor": 0
}