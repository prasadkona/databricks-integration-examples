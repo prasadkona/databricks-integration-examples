{
 "cells": [
  {
   "cell_type": "code",
   "execution_count": 0,
   "metadata": {
    "application/vnd.databricks.v1+cell": {
     "cellMetadata": {
      "byteLimit": 2048000,
      "rowLimit": 10000
     },
     "inputWidgets": {},
     "nuid": "948c4c33-b73d-4359-9e95-5c3e3525c71b",
     "showTitle": false,
     "tableResultSettingsMap": {},
     "title": ""
    }
   },
   "outputs": [
    {
     "output_type": "stream",
     "name": "stdout",
     "output_type": "stream",
     "text": [
      "Requirement already satisfied: openai in /local_disk0/.ephemeral_nfs/envs/pythonEnv-4192c6a2-3465-4d89-8c1d-2ef186164dca/lib/python3.11/site-packages (1.82.0)\nRequirement already satisfied: mlflow in /local_disk0/.ephemeral_nfs/envs/pythonEnv-4192c6a2-3465-4d89-8c1d-2ef186164dca/lib/python3.11/site-packages (2.22.0)\nRequirement already satisfied: anyio<5,>=3.5.0 in /local_disk0/.ephemeral_nfs/envs/pythonEnv-4192c6a2-3465-4d89-8c1d-2ef186164dca/lib/python3.11/site-packages (from openai) (4.9.0)\nRequirement already satisfied: distro<2,>=1.7.0 in /usr/lib/python3/dist-packages (from openai) (1.7.0)\nRequirement already satisfied: httpx<1,>=0.23.0 in /local_disk0/.ephemeral_nfs/envs/pythonEnv-4192c6a2-3465-4d89-8c1d-2ef186164dca/lib/python3.11/site-packages (from openai) (0.28.1)\nRequirement already satisfied: jiter<1,>=0.4.0 in /local_disk0/.ephemeral_nfs/envs/pythonEnv-4192c6a2-3465-4d89-8c1d-2ef186164dca/lib/python3.11/site-packages (from openai) (0.10.0)\nRequirement already satisfied: pydantic<3,>=1.9.0 in /local_disk0/.ephemeral_nfs/envs/pythonEnv-4192c6a2-3465-4d89-8c1d-2ef186164dca/lib/python3.11/site-packages (from openai) (2.11.5)\nRequirement already satisfied: sniffio in /local_disk0/.ephemeral_nfs/envs/pythonEnv-4192c6a2-3465-4d89-8c1d-2ef186164dca/lib/python3.11/site-packages (from openai) (1.3.1)\nRequirement already satisfied: tqdm>4 in /local_disk0/.ephemeral_nfs/envs/pythonEnv-4192c6a2-3465-4d89-8c1d-2ef186164dca/lib/python3.11/site-packages (from openai) (4.67.1)\nRequirement already satisfied: typing-extensions<5,>=4.11 in /local_disk0/.ephemeral_nfs/envs/pythonEnv-4192c6a2-3465-4d89-8c1d-2ef186164dca/lib/python3.11/site-packages (from openai) (4.13.2)\nRequirement already satisfied: mlflow-skinny==2.22.0 in /local_disk0/.ephemeral_nfs/envs/pythonEnv-4192c6a2-3465-4d89-8c1d-2ef186164dca/lib/python3.11/site-packages (from mlflow) (2.22.0)\nRequirement already satisfied: Flask<4 in /local_disk0/.ephemeral_nfs/envs/pythonEnv-4192c6a2-3465-4d89-8c1d-2ef186164dca/lib/python3.11/site-packages (from mlflow) (3.1.1)\nRequirement already satisfied: Jinja2<4,>=2.11 in /local_disk0/.ephemeral_nfs/envs/pythonEnv-4192c6a2-3465-4d89-8c1d-2ef186164dca/lib/python3.11/site-packages (from mlflow) (3.1.6)\nRequirement already satisfied: alembic!=1.10.0,<2 in /local_disk0/.ephemeral_nfs/envs/pythonEnv-4192c6a2-3465-4d89-8c1d-2ef186164dca/lib/python3.11/site-packages (from mlflow) (1.16.1)\nRequirement already satisfied: docker<8,>=4.0.0 in /local_disk0/.ephemeral_nfs/envs/pythonEnv-4192c6a2-3465-4d89-8c1d-2ef186164dca/lib/python3.11/site-packages (from mlflow) (7.1.0)\nRequirement already satisfied: graphene<4 in /local_disk0/.ephemeral_nfs/envs/pythonEnv-4192c6a2-3465-4d89-8c1d-2ef186164dca/lib/python3.11/site-packages (from mlflow) (3.4.3)\nRequirement already satisfied: gunicorn<24 in /local_disk0/.ephemeral_nfs/envs/pythonEnv-4192c6a2-3465-4d89-8c1d-2ef186164dca/lib/python3.11/site-packages (from mlflow) (23.0.0)\nRequirement already satisfied: markdown<4,>=3.3 in /local_disk0/.ephemeral_nfs/envs/pythonEnv-4192c6a2-3465-4d89-8c1d-2ef186164dca/lib/python3.11/site-packages (from mlflow) (3.8)\nRequirement already satisfied: matplotlib<4 in /databricks/python3/lib/python3.11/site-packages (from mlflow) (3.7.2)\nRequirement already satisfied: numpy<3 in /databricks/python3/lib/python3.11/site-packages (from mlflow) (1.23.5)\nRequirement already satisfied: pandas<3 in /databricks/python3/lib/python3.11/site-packages (from mlflow) (1.5.3)\nRequirement already satisfied: pyarrow<20,>=4.0.0 in /databricks/python3/lib/python3.11/site-packages (from mlflow) (14.0.1)\nRequirement already satisfied: scikit-learn<2 in /databricks/python3/lib/python3.11/site-packages (from mlflow) (1.3.0)\nRequirement already satisfied: scipy<2 in /databricks/python3/lib/python3.11/site-packages (from mlflow) (1.11.1)\nRequirement already satisfied: sqlalchemy<3,>=1.4.0 in /local_disk0/.ephemeral_nfs/envs/pythonEnv-4192c6a2-3465-4d89-8c1d-2ef186164dca/lib/python3.11/site-packages (from mlflow) (2.0.41)\nRequirement already satisfied: cachetools<6,>=5.0.0 in /databricks/python3/lib/python3.11/site-packages (from mlflow-skinny==2.22.0->mlflow) (5.5.0)\nRequirement already satisfied: click<9,>=7.0 in /local_disk0/.ephemeral_nfs/envs/pythonEnv-4192c6a2-3465-4d89-8c1d-2ef186164dca/lib/python3.11/site-packages (from mlflow-skinny==2.22.0->mlflow) (8.2.1)\nRequirement already satisfied: cloudpickle<4 in /databricks/python3/lib/python3.11/site-packages (from mlflow-skinny==2.22.0->mlflow) (3.0.0)\nRequirement already satisfied: databricks-sdk<1,>=0.20.0 in /databricks/python3/lib/python3.11/site-packages (from mlflow-skinny==2.22.0->mlflow) (0.40.0)\nRequirement already satisfied: fastapi<1 in /local_disk0/.ephemeral_nfs/envs/pythonEnv-4192c6a2-3465-4d89-8c1d-2ef186164dca/lib/python3.11/site-packages (from mlflow-skinny==2.22.0->mlflow) (0.115.12)\nRequirement already satisfied: gitpython<4,>=3.1.9 in /databricks/python3/lib/python3.11/site-packages (from mlflow-skinny==2.22.0->mlflow) (3.1.43)\nRequirement already satisfied: importlib_metadata!=4.7.0,<9,>=3.7.0 in /databricks/python3/lib/python3.11/site-packages (from mlflow-skinny==2.22.0->mlflow) (6.0.0)\nRequirement already satisfied: opentelemetry-api<3,>=1.9.0 in /local_disk0/.ephemeral_nfs/envs/pythonEnv-4192c6a2-3465-4d89-8c1d-2ef186164dca/lib/python3.11/site-packages (from mlflow-skinny==2.22.0->mlflow) (1.33.1)\nRequirement already satisfied: opentelemetry-sdk<3,>=1.9.0 in /local_disk0/.ephemeral_nfs/envs/pythonEnv-4192c6a2-3465-4d89-8c1d-2ef186164dca/lib/python3.11/site-packages (from mlflow-skinny==2.22.0->mlflow) (1.33.1)\nRequirement already satisfied: packaging<25 in /databricks/python3/lib/python3.11/site-packages (from mlflow-skinny==2.22.0->mlflow) (23.2)\nRequirement already satisfied: protobuf<7,>=3.12.0 in /databricks/python3/lib/python3.11/site-packages (from mlflow-skinny==2.22.0->mlflow) (5.29.3)\nRequirement already satisfied: pyyaml<7,>=5.1 in /databricks/python3/lib/python3.11/site-packages (from mlflow-skinny==2.22.0->mlflow) (6.0)\nRequirement already satisfied: requests<3,>=2.17.3 in /databricks/python3/lib/python3.11/site-packages (from mlflow-skinny==2.22.0->mlflow) (2.31.0)\nRequirement already satisfied: sqlparse<1,>=0.4.0 in /databricks/python3/lib/python3.11/site-packages (from mlflow-skinny==2.22.0->mlflow) (0.5.1)\nRequirement already satisfied: uvicorn<1 in /local_disk0/.ephemeral_nfs/envs/pythonEnv-4192c6a2-3465-4d89-8c1d-2ef186164dca/lib/python3.11/site-packages (from mlflow-skinny==2.22.0->mlflow) (0.34.2)\nRequirement already satisfied: Mako in /local_disk0/.ephemeral_nfs/envs/pythonEnv-4192c6a2-3465-4d89-8c1d-2ef186164dca/lib/python3.11/site-packages (from alembic!=1.10.0,<2->mlflow) (1.3.10)\nRequirement already satisfied: idna>=2.8 in /databricks/python3/lib/python3.11/site-packages (from anyio<5,>=3.5.0->openai) (3.4)\nRequirement already satisfied: urllib3>=1.26.0 in /databricks/python3/lib/python3.11/site-packages (from docker<8,>=4.0.0->mlflow) (1.26.16)\nRequirement already satisfied: blinker>=1.9.0 in /local_disk0/.ephemeral_nfs/envs/pythonEnv-4192c6a2-3465-4d89-8c1d-2ef186164dca/lib/python3.11/site-packages (from Flask<4->mlflow) (1.9.0)\nRequirement already satisfied: itsdangerous>=2.2.0 in /local_disk0/.ephemeral_nfs/envs/pythonEnv-4192c6a2-3465-4d89-8c1d-2ef186164dca/lib/python3.11/site-packages (from Flask<4->mlflow) (2.2.0)\nRequirement already satisfied: markupsafe>=2.1.1 in /local_disk0/.ephemeral_nfs/envs/pythonEnv-4192c6a2-3465-4d89-8c1d-2ef186164dca/lib/python3.11/site-packages (from Flask<4->mlflow) (3.0.2)\nRequirement already satisfied: werkzeug>=3.1.0 in /local_disk0/.ephemeral_nfs/envs/pythonEnv-4192c6a2-3465-4d89-8c1d-2ef186164dca/lib/python3.11/site-packages (from Flask<4->mlflow) (3.1.3)\nRequirement already satisfied: graphql-core<3.3,>=3.1 in /local_disk0/.ephemeral_nfs/envs/pythonEnv-4192c6a2-3465-4d89-8c1d-2ef186164dca/lib/python3.11/site-packages (from graphene<4->mlflow) (3.2.6)\nRequirement already satisfied: graphql-relay<3.3,>=3.1 in /local_disk0/.ephemeral_nfs/envs/pythonEnv-4192c6a2-3465-4d89-8c1d-2ef186164dca/lib/python3.11/site-packages (from graphene<4->mlflow) (3.2.0)\nRequirement already satisfied: python-dateutil<3,>=2.7.0 in /databricks/python3/lib/python3.11/site-packages (from graphene<4->mlflow) (2.8.2)\nRequirement already satisfied: certifi in /databricks/python3/lib/python3.11/site-packages (from httpx<1,>=0.23.0->openai) (2023.7.22)\nRequirement already satisfied: httpcore==1.* in /local_disk0/.ephemeral_nfs/envs/pythonEnv-4192c6a2-3465-4d89-8c1d-2ef186164dca/lib/python3.11/site-packages (from httpx<1,>=0.23.0->openai) (1.0.9)\nRequirement already satisfied: h11>=0.16 in /local_disk0/.ephemeral_nfs/envs/pythonEnv-4192c6a2-3465-4d89-8c1d-2ef186164dca/lib/python3.11/site-packages (from httpcore==1.*->httpx<1,>=0.23.0->openai) (0.16.0)\nRequirement already satisfied: contourpy>=1.0.1 in /databricks/python3/lib/python3.11/site-packages (from matplotlib<4->mlflow) (1.0.5)\nRequirement already satisfied: cycler>=0.10 in /databricks/python3/lib/python3.11/site-packages (from matplotlib<4->mlflow) (0.11.0)\nRequirement already satisfied: fonttools>=4.22.0 in /databricks/python3/lib/python3.11/site-packages (from matplotlib<4->mlflow) (4.25.0)\nRequirement already satisfied: kiwisolver>=1.0.1 in /databricks/python3/lib/python3.11/site-packages (from matplotlib<4->mlflow) (1.4.4)\nRequirement already satisfied: pillow>=6.2.0 in /databricks/python3/lib/python3.11/site-packages (from matplotlib<4->mlflow) (10.3.0)\nRequirement already satisfied: pyparsing<3.1,>=2.3.1 in /databricks/python3/lib/python3.11/site-packages (from matplotlib<4->mlflow) (3.0.9)\nRequirement already satisfied: pytz>=2020.1 in /databricks/python3/lib/python3.11/site-packages (from pandas<3->mlflow) (2022.7)\nRequirement already satisfied: annotated-types>=0.6.0 in /local_disk0/.ephemeral_nfs/envs/pythonEnv-4192c6a2-3465-4d89-8c1d-2ef186164dca/lib/python3.11/site-packages (from pydantic<3,>=1.9.0->openai) (0.7.0)\nRequirement already satisfied: pydantic-core==2.33.2 in /local_disk0/.ephemeral_nfs/envs/pythonEnv-4192c6a2-3465-4d89-8c1d-2ef186164dca/lib/python3.11/site-packages (from pydantic<3,>=1.9.0->openai) (2.33.2)\nRequirement already satisfied: typing-inspection>=0.4.0 in /local_disk0/.ephemeral_nfs/envs/pythonEnv-4192c6a2-3465-4d89-8c1d-2ef186164dca/lib/python3.11/site-packages (from pydantic<3,>=1.9.0->openai) (0.4.1)\nRequirement already satisfied: joblib>=1.1.1 in /databricks/python3/lib/python3.11/site-packages (from scikit-learn<2->mlflow) (1.2.0)\nRequirement already satisfied: threadpoolctl>=2.0.0 in /databricks/python3/lib/python3.11/site-packages (from scikit-learn<2->mlflow) (2.2.0)\nRequirement already satisfied: greenlet>=1 in /local_disk0/.ephemeral_nfs/envs/pythonEnv-4192c6a2-3465-4d89-8c1d-2ef186164dca/lib/python3.11/site-packages (from sqlalchemy<3,>=1.4.0->mlflow) (3.2.2)\nRequirement already satisfied: google-auth~=2.0 in /databricks/python3/lib/python3.11/site-packages (from databricks-sdk<1,>=0.20.0->mlflow-skinny==2.22.0->mlflow) (2.35.0)\nRequirement already satisfied: starlette<0.47.0,>=0.40.0 in /local_disk0/.ephemeral_nfs/envs/pythonEnv-4192c6a2-3465-4d89-8c1d-2ef186164dca/lib/python3.11/site-packages (from fastapi<1->mlflow-skinny==2.22.0->mlflow) (0.46.2)\nRequirement already satisfied: gitdb<5,>=4.0.1 in /databricks/python3/lib/python3.11/site-packages (from gitpython<4,>=3.1.9->mlflow-skinny==2.22.0->mlflow) (4.0.11)\nRequirement already satisfied: zipp>=0.5 in /databricks/python3/lib/python3.11/site-packages (from importlib_metadata!=4.7.0,<9,>=3.7.0->mlflow-skinny==2.22.0->mlflow) (3.11.0)\nRequirement already satisfied: deprecated>=1.2.6 in /local_disk0/.ephemeral_nfs/envs/pythonEnv-4192c6a2-3465-4d89-8c1d-2ef186164dca/lib/python3.11/site-packages (from opentelemetry-api<3,>=1.9.0->mlflow-skinny==2.22.0->mlflow) (1.2.18)\nRequirement already satisfied: opentelemetry-semantic-conventions==0.54b1 in /local_disk0/.ephemeral_nfs/envs/pythonEnv-4192c6a2-3465-4d89-8c1d-2ef186164dca/lib/python3.11/site-packages (from opentelemetry-sdk<3,>=1.9.0->mlflow-skinny==2.22.0->mlflow) (0.54b1)\nRequirement already satisfied: six>=1.5 in /usr/lib/python3/dist-packages (from python-dateutil<3,>=2.7.0->graphene<4->mlflow) (1.16.0)\nRequirement already satisfied: charset-normalizer<4,>=2 in /databricks/python3/lib/python3.11/site-packages (from requests<3,>=2.17.3->mlflow-skinny==2.22.0->mlflow) (2.0.4)\nRequirement already satisfied: wrapt<2,>=1.10 in /local_disk0/.ephemeral_nfs/envs/pythonEnv-4192c6a2-3465-4d89-8c1d-2ef186164dca/lib/python3.11/site-packages (from deprecated>=1.2.6->opentelemetry-api<3,>=1.9.0->mlflow-skinny==2.22.0->mlflow) (1.17.2)\nRequirement already satisfied: smmap<6,>=3.0.1 in /databricks/python3/lib/python3.11/site-packages (from gitdb<5,>=4.0.1->gitpython<4,>=3.1.9->mlflow-skinny==2.22.0->mlflow) (5.0.1)\nRequirement already satisfied: pyasn1-modules>=0.2.1 in /databricks/python3/lib/python3.11/site-packages (from google-auth~=2.0->databricks-sdk<1,>=0.20.0->mlflow-skinny==2.22.0->mlflow) (0.2.8)\nRequirement already satisfied: rsa<5,>=3.1.4 in /databricks/python3/lib/python3.11/site-packages (from google-auth~=2.0->databricks-sdk<1,>=0.20.0->mlflow-skinny==2.22.0->mlflow) (4.9)\nRequirement already satisfied: pyasn1<0.5.0,>=0.4.6 in /databricks/python3/lib/python3.11/site-packages (from pyasn1-modules>=0.2.1->google-auth~=2.0->databricks-sdk<1,>=0.20.0->mlflow-skinny==2.22.0->mlflow) (0.4.8)\n\u001B[43mNote: you may need to restart the kernel using %restart_python or dbutils.library.restartPython() to use updated packages.\u001B[0m\n"
     ]
    }
   ],
   "source": [
    "%pip install openai mlflow \n",
    "dbutils.library.restartPython()"
   ]
  },
  {
   "cell_type": "markdown",
   "metadata": {
    "application/vnd.databricks.v1+cell": {
     "cellMetadata": {},
     "inputWidgets": {},
     "nuid": "8218f4f9-5215-47f1-8781-5af82123cf6e",
     "showTitle": false,
     "tableResultSettingsMap": {},
     "title": ""
    }
   },
   "source": [
    "# Three ways to call Databricks Mosaic AI model serving endpoints\n",
    "* 1. Using OpenAI sdk to call model serving endpoint\n",
    "* 2. Using Databricks sdk to call model serving endpoint\n",
    "* 3. Using rest api to call model serving endpoint"
   ]
  },
  {
   "cell_type": "code",
   "execution_count": 0,
   "metadata": {
    "application/vnd.databricks.v1+cell": {
     "cellMetadata": {
      "byteLimit": 2048000,
      "rowLimit": 10000
     },
     "inputWidgets": {},
     "nuid": "2763f855-d2bb-4d21-8073-e0a8d69994fe",
     "showTitle": false,
     "tableResultSettingsMap": {},
     "title": ""
    }
   },
   "outputs": [],
   "source": [
    "catalog = \"prasad_kona_isv\"\n",
    "schema = \"demo\"\n",
    "model_name = \"langgraph-tool-calling-agent\"\n",
    "UC_MODEL_NAME = f\"{catalog}.{schema}.{model_name}\""
   ]
  },
  {
   "cell_type": "code",
   "execution_count": 0,
   "metadata": {
    "application/vnd.databricks.v1+cell": {
     "cellMetadata": {
      "byteLimit": 2048000,
      "rowLimit": 10000
     },
     "inputWidgets": {},
     "nuid": "f0bed5e5-27e8-42cb-80a4-1d3dd30a640f",
     "showTitle": true,
     "tableResultSettingsMap": {},
     "title": "Using OpenAI sdk to call model serving endpoint"
    }
   },
   "outputs": [
    {
     "output_type": "stream",
     "name": "stdout",
     "output_type": "stream",
     "text": [
      "ChatCompletion(id='e126e4c9-b63a-4ad9-ac5b-6adea89bfe69', choices=None, created=None, model=None, object=None, service_tier=None, system_fingerprint=None, usage=None, messages=[{'role': 'assistant', 'content': 'Large Language Models are a type of artificial intelligence designed to process and understand human language, generating coherent and contextually relevant text based on the input they receive, with applications in areas such as chatbots, language translation, and text summarization.', 'id': 'run--f1b007b7-3cdc-45c5-a796-aa099f376dcb-0'}], databricks_output={'databricks_request_id': 'e126e4c9-b63a-4ad9-ac5b-6adea89bfe69'})\n"
     ]
    }
   ],
   "source": [
    "from openai import OpenAI\n",
    "import os\n",
    "\n",
    "\n",
    "# In a Databricks notebook you can use this:\n",
    "DATABRICKS_HOSTNAME = dbutils.notebook.entry_point.getDbutils().notebook().getContext().browserHostName().get()\n",
    "\n",
    "# How to get your Databricks token: https://docs.databricks.com/en/dev-tools/auth/pat.html\n",
    "#DATABRICKS_TOKEN = os.environ.get('DATABRICKS_TOKEN')\n",
    "# Alternatively in a Databricks notebook you can use this:\n",
    "DATABRICKS_TOKEN = dbutils.notebook.entry_point.getDbutils().notebook().getContext().apiToken().get()\n",
    "\n",
    "serving_endpoint_name =\"agents_prasad_kona_isv-demo-langgraph-tool-calling-agent\"\n",
    "\n",
    "client = OpenAI(\n",
    "  api_key=DATABRICKS_TOKEN,\n",
    "  base_url=f\"https://{DATABRICKS_HOSTNAME}/serving-endpoints\"\n",
    ")\n",
    "\n",
    "chat_completion = client.chat.completions.create(\n",
    "  messages=[\n",
    "  {\n",
    "    \"role\": \"system\",\n",
    "    \"content\": \"You are an AI assistant\"\n",
    "  },\n",
    "  {\n",
    "    \"role\": \"user\",\n",
    "    \"content\": \"Tell me about Large Language Models in one sentence\"\n",
    "  }\n",
    "  ],\n",
    "  model= serving_endpoint_name,\n",
    "  max_tokens=256\n",
    ")\n",
    "\n",
    "print(chat_completion.choices[0].message.content) if chat_completion and chat_completion.choices else print(chat_completion)\n",
    "\n"
   ]
  },
  {
   "cell_type": "code",
   "execution_count": 0,
   "metadata": {
    "application/vnd.databricks.v1+cell": {
     "cellMetadata": {
      "byteLimit": 2048000,
      "rowLimit": 10000
     },
     "inputWidgets": {},
     "nuid": "0b065167-f2de-46f1-99b7-4129fa1d7d40",
     "showTitle": true,
     "tableResultSettingsMap": {},
     "title": "Using Databricks sdk to call model serving endpoint"
    }
   },
   "outputs": [
    {
     "output_type": "stream",
     "name": "stdout",
     "output_type": "stream",
     "text": [
      "{'messages': [{'role': 'assistant', 'content': 'Databricks billing is based on Databricks Units (DBUs), which are a measure of the compute resources used by an organization, with costs varying depending on the cloud provider, instance type, and usage.', 'id': 'run--c5ab5c60-dbb2-41b8-8bd0-5518ee58cac9-0'}], 'id': '18e2ed1e-f36d-42ea-b83a-d2dfedb6f7d4'}\n"
     ]
    }
   ],
   "source": [
    "from databricks.sdk import WorkspaceClient\n",
    "from databricks.sdk.service.serving import DataframeSplitInput\n",
    "\n",
    "# In a Databricks notebook you can use this:\n",
    "#databricks_hostname = dbutils.notebook.entry_point.getDbutils().notebook().getContext().browserHostName()\n",
    "#databricks_token=dbutils.notebook.entry_point.getDbutils().notebook().getContext().apiToken().get()\n",
    "\n",
    "serving_endpoint_name =\"agents_prasad_kona_isv-demo-langgraph-tool-calling-agent\"\n",
    "\n",
    "#endpoint_url = f\"https://{databricks_hostname}/serving-endpoints/{serving_endpoint_name}/invocations\"\n",
    "\n",
    "\n",
    "w = WorkspaceClient()\n",
    "\n",
    "test_dialog = DataframeSplitInput(\n",
    "    columns=[\"messages\"],\n",
    "    data=[\n",
    "        {\n",
    "            \"messages\": [\n",
    "                {\"role\": \"user\", \"content\": \"How does billing work on Databricks? Answer in one sentence\"},\n",
    "            ]\n",
    "        }\n",
    "    ],\n",
    ")\n",
    "answer = w.serving_endpoints.query(serving_endpoint_name, dataframe_split=test_dialog)\n",
    "print(answer.predictions)"
   ]
  },
  {
   "cell_type": "code",
   "execution_count": 0,
   "metadata": {
    "application/vnd.databricks.v1+cell": {
     "cellMetadata": {
      "byteLimit": 2048000,
      "rowLimit": 10000
     },
     "inputWidgets": {},
     "nuid": "a3f8b5b3-2ff5-4a56-80c0-fbebc98a523e",
     "showTitle": true,
     "tableResultSettingsMap": {},
     "title": "Using rest api to call model serving endpoint"
    }
   },
   "outputs": [
    {
     "output_type": "display_data",
     "data": {
      "text/plain": [
       "{'messages': [{'role': 'assistant',\n",
       "   'content': 'Databricks billing is based on Databricks Units (DBUs), which are consumed by running clusters, jobs, and other workloads, with costs calculated according to the type and size of the cluster, as well as the duration of usage.',\n",
       "   'id': 'run--3e87b7c5-6303-43db-a2e6-2ae410134644-0'}],\n",
       " 'id': 'f5335637-fc86-4716-8687-1830f170d685',\n",
       " 'databricks_output': {'databricks_request_id': 'f5335637-fc86-4716-8687-1830f170d685'}}"
      ]
     },
     "metadata": {},
     "output_type": "display_data"
    }
   ],
   "source": [
    "import json\n",
    "import requests\n",
    "\n",
    "# In a Databricks notebook you can use this:\n",
    "DATABRICKS_TOKEN=dbutils.notebook.entry_point.getDbutils().notebook().getContext().apiToken().get()\n",
    "DATABRICKS_HOSTNAME = dbutils.notebook.entry_point.getDbutils().notebook().getContext().browserHostName().get()\n",
    "serving_endpoint_name =\"agents_prasad_kona_isv-demo-langgraph-tool-calling-agent\"\n",
    "\n",
    "endpoint_url = f\"https://{DATABRICKS_HOSTNAME}/serving-endpoints/{serving_endpoint_name}/invocations\"\n",
    "\n",
    "input_example = {\n",
    "    \"messages\": [\n",
    "        {\n",
    "            \"role\": \"user\",\n",
    "            \"content\": \"How does billing work on Databricks? Answer in one sentence\",\n",
    "        }\n",
    "    ]\n",
    "}\n",
    "\n",
    "def call_model_serving_endpoint(payload):\n",
    "    url = endpoint_url\n",
    "    headers = {'Authorization': f'Bearer {DATABRICKS_TOKEN}', 'Content-Type': 'application/json'}\n",
    "    \n",
    "    data_json = json.dumps(payload, allow_nan=True)\n",
    "    response = requests.request(method='POST', headers=headers, url=url, data=data_json)\n",
    "    return response.json()\n",
    "\n",
    "response_data = call_model_serving_endpoint(input_example)\n",
    "display(response_data)"
   ]
  }
 ],
 "metadata": {
  "application/vnd.databricks.v1+notebook": {
   "computePreferences": null,
   "dashboards": [],
   "environmentMetadata": {
    "base_environment": "",
    "environment_version": "2"
   },
   "inputWidgetPreferences": null,
   "language": "python",
   "notebookMetadata": {
    "pythonIndentUnit": 2
   },
   "notebookName": "calling_mosaicai_modelserving_endpoint",
   "widgets": {}
  },
  "language_info": {
   "name": "python"
  }
 },
 "nbformat": 4,
 "nbformat_minor": 0
}