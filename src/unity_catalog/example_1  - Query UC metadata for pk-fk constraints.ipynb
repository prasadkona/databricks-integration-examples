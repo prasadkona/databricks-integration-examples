{
 "cells": [
  {
   "cell_type": "markdown",
   "metadata": {
    "application/vnd.databricks.v1+cell": {
     "cellMetadata": {},
     "inputWidgets": {},
     "nuid": "396c527e-c5cc-4529-8682-c19ff139de82",
     "showTitle": false,
     "title": ""
    }
   },
   "source": [
    "## Primary key / Foreign key\n",
    "\n",
    "- https://docs.databricks.com/en/tables/constraints.html\n",
    "- https://docs.databricks.com/en/sql/language-manual/sql-ref-syntax-ddl-create-table-constraint.html"
   ]
  },
  {
   "cell_type": "code",
   "execution_count": 0,
   "metadata": {
    "application/vnd.databricks.v1+cell": {
     "cellMetadata": {
      "byteLimit": 2048000,
      "implicitDf": true,
      "rowLimit": 10000
     },
     "inputWidgets": {},
     "nuid": "c378dbd2-c98a-4683-8936-0d051b2aeb2d",
     "showTitle": false,
     "title": ""
    }
   },
   "outputs": [],
   "source": [
    "%sql\n",
    "\n",
    "use catalog prasad_kona_dev;\n",
    "use schema default;\n",
    "CREATE TABLE T(pk1 INTEGER NOT NULL, pk2 INTEGER NOT NULL,\n",
    "                CONSTRAINT t_pk PRIMARY KEY(pk1, pk2));\n",
    "CREATE TABLE S(pk INTEGER NOT NULL PRIMARY KEY,\n",
    "                fk1 INTEGER, fk2 INTEGER,\n",
    "                CONSTRAINT s_t_fk FOREIGN KEY(fk1, fk2) REFERENCES T);\n"
   ]
  },
  {
   "cell_type": "code",
   "execution_count": 0,
   "metadata": {
    "application/vnd.databricks.v1+cell": {
     "cellMetadata": {
      "byteLimit": 2048000,
      "implicitDf": true,
      "rowLimit": 10000
     },
     "inputWidgets": {},
     "nuid": "078d7439-548c-4b2d-b0c1-07b60e10062c",
     "showTitle": false,
     "title": ""
    }
   },
   "outputs": [],
   "source": [
    "%sql\n",
    "\n",
    "use catalog prasad_kona_dev;\n",
    "use schema default;\n",
    "-- Create a table with a primary key\n",
    " CREATE or replace TABLE persons(first_name STRING NOT NULL, last_name STRING NOT NULL, nickname STRING,\n",
    "                       CONSTRAINT persons_pk PRIMARY KEY(first_name, last_name));\n",
    "\n",
    "-- create a table with a foreign key\n",
    " CREATE  or replace TABLE pets(name STRING, owner_first_name STRING, owner_last_name STRING,\n",
    "                    CONSTRAINT pets_persons_fk FOREIGN KEY (owner_first_name, owner_last_name) REFERENCES persons);\n",
    "\n",
    "-- Create a table with a single column primary key and system generated name\n",
    "CREATE  or replace TABLE customers(customerid STRING NOT NULL PRIMARY KEY, name STRING);\n",
    "\n",
    "-- Create a table with a names single column primary key and a named single column foreign key\n",
    " CREATE  or replace TABLE orders(orderid BIGINT NOT NULL CONSTRAINT orders_pk PRIMARY KEY,\n",
    "                      customerid STRING CONSTRAINT orders_customers_fk REFERENCES customers);\n"
   ]
  },
  {
   "cell_type": "code",
   "execution_count": 0,
   "metadata": {
    "application/vnd.databricks.v1+cell": {
     "cellMetadata": {
      "byteLimit": 2048000,
      "implicitDf": true,
      "rowLimit": 10000
     },
     "inputWidgets": {},
     "nuid": "99126fa4-1c85-41a2-9f0e-d0199512509e",
     "showTitle": false,
     "title": ""
    }
   },
   "outputs": [],
   "source": [
    "%sql\n",
    "use catalog prasad_kona_dev;\n",
    "use schema default;\n",
    "\n",
    "drop table if exists persons2;\n",
    "drop table if exists pets2;\n",
    "\n",
    "drop table if exists customers2;\n",
    "drop table if exists orders2;"
   ]
  },
  {
   "cell_type": "code",
   "execution_count": 0,
   "metadata": {
    "application/vnd.databricks.v1+cell": {
     "cellMetadata": {
      "byteLimit": 2048000,
      "implicitDf": true,
      "rowLimit": 10000
     },
     "inputWidgets": {},
     "nuid": "afc7177c-d847-488e-b175-5250919b8d1b",
     "showTitle": true,
     "title": "Create demo schemas with constraints (pk/fk)"
    }
   },
   "outputs": [],
   "source": [
    "%sql\n",
    "\n",
    "use catalog prasad_kona_dev;\n",
    "use schema default;\n",
    "\n",
    "--- Example 1 ---\n",
    "-- Create a table with a primary key\n",
    " CREATE  or replace TABLE persons2(first_name STRING NOT NULL, last_name STRING NOT NULL, nickname STRING,\n",
    "                       CONSTRAINT persons2_pk PRIMARY KEY(first_name, last_name));\n",
    "\n",
    "-- create a table with a foreign key\n",
    " CREATE  or replace TABLE pets2(name STRING, owner_first_name STRING, owner_last_name STRING,\n",
    "                    CONSTRAINT pets2_persons2_fk FOREIGN KEY (owner_first_name, owner_last_name) REFERENCES persons2 (first_name,last_name));\n",
    "\n",
    "\n",
    "--- Example 2 ---\n",
    "-- Create a table with a single column primary key and system generated name\n",
    "CREATE  or replace TABLE customers2(customerid STRING NOT NULL PRIMARY KEY, name STRING);\n",
    "\n",
    "-- Create a table with a names single column primary key and a named single column foreign key\n",
    " CREATE  or replace TABLE orders2(orderid BIGINT NOT NULL CONSTRAINT orders2_pk PRIMARY KEY,\n",
    "                      customerid STRING CONSTRAINT orders2_customers2_fk REFERENCES customers2(customerid));\n"
   ]
  },
  {
   "cell_type": "code",
   "execution_count": 0,
   "metadata": {
    "application/vnd.databricks.v1+cell": {
     "cellMetadata": {
      "byteLimit": 2048000,
      "implicitDf": true,
      "rowLimit": 10000
     },
     "inputWidgets": {},
     "nuid": "f6f27334-fe89-40ae-8e7d-d3c559fca0f7",
     "showTitle": false,
     "title": ""
    }
   },
   "outputs": [
    {
     "output_type": "display_data",
     "data": {
      "text/html": [
       "<style scoped>\n",
       "  .table-result-container {\n",
       "    max-height: 300px;\n",
       "    overflow: auto;\n",
       "  }\n",
       "  table, th, td {\n",
       "    border: 1px solid black;\n",
       "    border-collapse: collapse;\n",
       "  }\n",
       "  th, td {\n",
       "    padding: 5px;\n",
       "  }\n",
       "  th {\n",
       "    text-align: left;\n",
       "  }\n",
       "</style><div class='table-result-container'><table class='table-result'><thead style='background-color: white'><tr><th>col_name</th><th>data_type</th><th>comment</th></tr></thead><tbody><tr><td>name</td><td>string</td><td>null</td></tr><tr><td>owner_first_name</td><td>string</td><td>null</td></tr><tr><td>owner_last_name</td><td>string</td><td>null</td></tr><tr><td></td><td></td><td></td></tr><tr><td># Detailed Table Information</td><td></td><td></td></tr><tr><td>Catalog</td><td>prasad_kona_dev</td><td></td></tr><tr><td>Database</td><td>default</td><td></td></tr><tr><td>Table</td><td>pets2</td><td></td></tr><tr><td>Created Time</td><td>Wed Oct 09 18:18:10 UTC 2024</td><td></td></tr><tr><td>Last Access</td><td>UNKNOWN</td><td></td></tr><tr><td>Created By</td><td>Spark </td><td></td></tr><tr><td>Table Modification Statistics</td><td>inserted=0, deleted=0, updated=0</td><td></td></tr><tr><td>Statistics Staleness Percent</td><td>100.0</td><td></td></tr><tr><td>Type</td><td>MANAGED</td><td></td></tr><tr><td>Location</td><td>s3://databricks-e2demofieldengwest/b169b504-4c54-49f2-bc3a-adf4b128f36d/tables/b3162fc3-0fc0-4d14-83fb-34c33d220f63</td><td></td></tr><tr><td>Provider</td><td>delta</td><td></td></tr><tr><td>Owner</td><td>prasad.kona@databricks.com</td><td></td></tr><tr><td>Is_managed_location</td><td>true</td><td></td></tr><tr><td>Predictive Optimization</td><td>ENABLE (inherited from METASTORE unity-catalog-demo)</td><td></td></tr><tr><td>Table Properties</td><td>[delta.enableDeletionVectors=true,delta.feature.deletionVectors=supported,delta.minReaderVersion=3,delta.minWriterVersion=7]</td><td></td></tr><tr><td></td><td></td><td></td></tr><tr><td># Constraints</td><td></td><td></td></tr><tr><td>pets2_persons2_fk</td><td>FOREIGN KEY (`owner_first_name`, `owner_last_name`) REFERENCES `prasad_kona_dev`.`default`.`persons2` (`first_name`, `last_name`)</td><td></td></tr></tbody></table></div>"
      ]
     },
     "metadata": {
      "application/vnd.databricks.v1+output": {
       "addedWidgets": {},
       "aggData": [],
       "aggError": "",
       "aggOverflow": false,
       "aggSchema": [],
       "aggSeriesLimitReached": false,
       "aggType": "",
       "arguments": {},
       "columnCustomDisplayInfos": {},
       "data": [
        [
         "name",
         "string",
         null
        ],
        [
         "owner_first_name",
         "string",
         null
        ],
        [
         "owner_last_name",
         "string",
         null
        ],
        [
         "",
         "",
         ""
        ],
        [
         "# Detailed Table Information",
         "",
         ""
        ],
        [
         "Catalog",
         "prasad_kona_dev",
         ""
        ],
        [
         "Database",
         "default",
         ""
        ],
        [
         "Table",
         "pets2",
         ""
        ],
        [
         "Created Time",
         "Wed Oct 09 18:18:10 UTC 2024",
         ""
        ],
        [
         "Last Access",
         "UNKNOWN",
         ""
        ],
        [
         "Created By",
         "Spark ",
         ""
        ],
        [
         "Table Modification Statistics",
         "inserted=0, deleted=0, updated=0",
         ""
        ],
        [
         "Statistics Staleness Percent",
         "100.0",
         ""
        ],
        [
         "Type",
         "MANAGED",
         ""
        ],
        [
         "Location",
         "s3://databricks-e2demofieldengwest/b169b504-4c54-49f2-bc3a-adf4b128f36d/tables/b3162fc3-0fc0-4d14-83fb-34c33d220f63",
         ""
        ],
        [
         "Provider",
         "delta",
         ""
        ],
        [
         "Owner",
         "prasad.kona@databricks.com",
         ""
        ],
        [
         "Is_managed_location",
         "true",
         ""
        ],
        [
         "Predictive Optimization",
         "ENABLE (inherited from METASTORE unity-catalog-demo)",
         ""
        ],
        [
         "Table Properties",
         "[delta.enableDeletionVectors=true,delta.feature.deletionVectors=supported,delta.minReaderVersion=3,delta.minWriterVersion=7]",
         ""
        ],
        [
         "",
         "",
         ""
        ],
        [
         "# Constraints",
         "",
         ""
        ],
        [
         "pets2_persons2_fk",
         "FOREIGN KEY (`owner_first_name`, `owner_last_name`) REFERENCES `prasad_kona_dev`.`default`.`persons2` (`first_name`, `last_name`)",
         ""
        ]
       ],
       "datasetInfos": [
        {
         "name": "_sqldf",
         "schema": {
          "fields": [
           {
            "metadata": {},
            "name": "col_name",
            "nullable": false,
            "type": "string"
           },
           {
            "metadata": {},
            "name": "data_type",
            "nullable": false,
            "type": "string"
           },
           {
            "metadata": {},
            "name": "comment",
            "nullable": true,
            "type": "string"
           }
          ],
          "type": "struct"
         },
         "tableIdentifier": null,
         "typeStr": "pyspark.sql.connect.dataframe.DataFrame"
        }
       ],
       "dbfsResultPath": null,
       "isJsonSchema": true,
       "metadata": {
        "dataframeName": "_sqldf",
        "executionCount": 3
       },
       "overflow": false,
       "plotOptions": {
        "customPlotOptions": {},
        "displayType": "table",
        "pivotAggregation": null,
        "pivotColumns": null,
        "xColumns": null,
        "yColumns": null
       },
       "removedWidgets": [],
       "schema": [
        {
         "metadata": "{}",
         "name": "col_name",
         "type": "\"string\""
        },
        {
         "metadata": "{}",
         "name": "data_type",
         "type": "\"string\""
        },
        {
         "metadata": "{}",
         "name": "comment",
         "type": "\"string\""
        }
       ],
       "type": "table"
      }
     },
     "output_type": "display_data"
    }
   ],
   "source": [
    "%sql\n",
    "describe formatted prasad_kona_dev.default.pets2"
   ]
  },
  {
   "cell_type": "code",
   "execution_count": 0,
   "metadata": {
    "application/vnd.databricks.v1+cell": {
     "cellMetadata": {
      "byteLimit": 2048000,
      "implicitDf": true,
      "rowLimit": 10000
     },
     "inputWidgets": {},
     "nuid": "4a3f8620-22a3-44e4-9ce3-e3bb5562792e",
     "showTitle": false,
     "title": ""
    }
   },
   "outputs": [
    {
     "output_type": "display_data",
     "data": {
      "text/html": [
       "<style scoped>\n",
       "  .table-result-container {\n",
       "    max-height: 300px;\n",
       "    overflow: auto;\n",
       "  }\n",
       "  table, th, td {\n",
       "    border: 1px solid black;\n",
       "    border-collapse: collapse;\n",
       "  }\n",
       "  th, td {\n",
       "    padding: 5px;\n",
       "  }\n",
       "  th {\n",
       "    text-align: left;\n",
       "  }\n",
       "</style><div class='table-result-container'><table class='table-result'><thead style='background-color: white'><tr><th>format</th><th>id</th><th>name</th><th>description</th><th>location</th><th>createdAt</th><th>lastModified</th><th>partitionColumns</th><th>clusteringColumns</th><th>numFiles</th><th>sizeInBytes</th><th>properties</th><th>minReaderVersion</th><th>minWriterVersion</th><th>tableFeatures</th><th>statistics</th></tr></thead><tbody><tr><td>delta</td><td>9d3c84ea-e9ff-477e-9bee-7ecb9ae6cfff</td><td>prasad_kona_dev.default.pets2</td><td>null</td><td>s3://databricks-e2demofieldengwest/b169b504-4c54-49f2-bc3a-adf4b128f36d/tables/b3162fc3-0fc0-4d14-83fb-34c33d220f63</td><td>2024-10-09T18:18:09.232Z</td><td>2024-10-09T18:18:10Z</td><td>List()</td><td>List()</td><td>0</td><td>0</td><td>Map(delta.enableDeletionVectors -> true)</td><td>3</td><td>7</td><td>List(deletionVectors)</td><td>Map(numRowsDeletedByDeletionVectors -> 0, numDeletionVectors -> 0)</td></tr></tbody></table></div>"
      ]
     },
     "metadata": {
      "application/vnd.databricks.v1+output": {
       "addedWidgets": {},
       "aggData": [],
       "aggError": "",
       "aggOverflow": false,
       "aggSchema": [],
       "aggSeriesLimitReached": false,
       "aggType": "",
       "arguments": {},
       "columnCustomDisplayInfos": {},
       "data": [
        [
         "delta",
         "9d3c84ea-e9ff-477e-9bee-7ecb9ae6cfff",
         "prasad_kona_dev.default.pets2",
         null,
         "s3://databricks-e2demofieldengwest/b169b504-4c54-49f2-bc3a-adf4b128f36d/tables/b3162fc3-0fc0-4d14-83fb-34c33d220f63",
         "2024-10-09T18:18:09.232Z",
         "2024-10-09T18:18:10Z",
         [],
         [],
         0,
         0,
         {
          "delta.enableDeletionVectors": "true"
         },
         3,
         7,
         [
          "deletionVectors"
         ],
         {
          "numDeletionVectors": 0,
          "numRowsDeletedByDeletionVectors": 0
         }
        ]
       ],
       "datasetInfos": [
        {
         "name": "_sqldf",
         "schema": {
          "fields": [
           {
            "metadata": {},
            "name": "format",
            "nullable": true,
            "type": "string"
           },
           {
            "metadata": {},
            "name": "id",
            "nullable": true,
            "type": "string"
           },
           {
            "metadata": {},
            "name": "name",
            "nullable": true,
            "type": "string"
           },
           {
            "metadata": {},
            "name": "description",
            "nullable": true,
            "type": "string"
           },
           {
            "metadata": {},
            "name": "location",
            "nullable": true,
            "type": "string"
           },
           {
            "metadata": {},
            "name": "createdAt",
            "nullable": true,
            "type": "timestamp"
           },
           {
            "metadata": {},
            "name": "lastModified",
            "nullable": true,
            "type": "timestamp"
           },
           {
            "metadata": {},
            "name": "partitionColumns",
            "nullable": true,
            "type": {
             "containsNull": true,
             "elementType": "string",
             "type": "array"
            }
           },
           {
            "metadata": {},
            "name": "clusteringColumns",
            "nullable": true,
            "type": {
             "containsNull": true,
             "elementType": "string",
             "type": "array"
            }
           },
           {
            "metadata": {},
            "name": "numFiles",
            "nullable": true,
            "type": "long"
           },
           {
            "metadata": {},
            "name": "sizeInBytes",
            "nullable": true,
            "type": "long"
           },
           {
            "metadata": {},
            "name": "properties",
            "nullable": true,
            "type": {
             "keyType": "string",
             "type": "map",
             "valueContainsNull": true,
             "valueType": "string"
            }
           },
           {
            "metadata": {},
            "name": "minReaderVersion",
            "nullable": true,
            "type": "integer"
           },
           {
            "metadata": {},
            "name": "minWriterVersion",
            "nullable": true,
            "type": "integer"
           },
           {
            "metadata": {},
            "name": "tableFeatures",
            "nullable": true,
            "type": {
             "containsNull": true,
             "elementType": "string",
             "type": "array"
            }
           },
           {
            "metadata": {},
            "name": "statistics",
            "nullable": true,
            "type": {
             "keyType": "string",
             "type": "map",
             "valueContainsNull": true,
             "valueType": "long"
            }
           }
          ],
          "type": "struct"
         },
         "tableIdentifier": null,
         "typeStr": "pyspark.sql.connect.dataframe.DataFrame"
        }
       ],
       "dbfsResultPath": null,
       "isJsonSchema": true,
       "metadata": {
        "dataframeName": "_sqldf",
        "executionCount": 4
       },
       "overflow": false,
       "plotOptions": {
        "customPlotOptions": {},
        "displayType": "table",
        "pivotAggregation": null,
        "pivotColumns": null,
        "xColumns": null,
        "yColumns": null
       },
       "removedWidgets": [],
       "schema": [
        {
         "metadata": "{}",
         "name": "format",
         "type": "\"string\""
        },
        {
         "metadata": "{}",
         "name": "id",
         "type": "\"string\""
        },
        {
         "metadata": "{}",
         "name": "name",
         "type": "\"string\""
        },
        {
         "metadata": "{}",
         "name": "description",
         "type": "\"string\""
        },
        {
         "metadata": "{}",
         "name": "location",
         "type": "\"string\""
        },
        {
         "metadata": "{}",
         "name": "createdAt",
         "type": "\"timestamp\""
        },
        {
         "metadata": "{}",
         "name": "lastModified",
         "type": "\"timestamp\""
        },
        {
         "metadata": "{}",
         "name": "partitionColumns",
         "type": "{\"type\":\"array\",\"elementType\":\"string\",\"containsNull\":true}"
        },
        {
         "metadata": "{}",
         "name": "clusteringColumns",
         "type": "{\"type\":\"array\",\"elementType\":\"string\",\"containsNull\":true}"
        },
        {
         "metadata": "{}",
         "name": "numFiles",
         "type": "\"long\""
        },
        {
         "metadata": "{}",
         "name": "sizeInBytes",
         "type": "\"long\""
        },
        {
         "metadata": "{}",
         "name": "properties",
         "type": "{\"type\":\"map\",\"keyType\":\"string\",\"valueType\":\"string\",\"valueContainsNull\":true}"
        },
        {
         "metadata": "{}",
         "name": "minReaderVersion",
         "type": "\"integer\""
        },
        {
         "metadata": "{}",
         "name": "minWriterVersion",
         "type": "\"integer\""
        },
        {
         "metadata": "{}",
         "name": "tableFeatures",
         "type": "{\"type\":\"array\",\"elementType\":\"string\",\"containsNull\":true}"
        },
        {
         "metadata": "{}",
         "name": "statistics",
         "type": "{\"type\":\"map\",\"keyType\":\"string\",\"valueType\":\"long\",\"valueContainsNull\":true}"
        }
       ],
       "type": "table"
      }
     },
     "output_type": "display_data"
    }
   ],
   "source": [
    "%sql\n",
    "describe detail prasad_kona_dev.default.pets2"
   ]
  },
  {
   "cell_type": "code",
   "execution_count": 0,
   "metadata": {
    "application/vnd.databricks.v1+cell": {
     "cellMetadata": {
      "byteLimit": 2048000,
      "implicitDf": true,
      "rowLimit": 10000
     },
     "inputWidgets": {},
     "nuid": "215b3c20-8008-43c3-a3db-893ad14fb725",
     "showTitle": true,
     "title": "Query to list all foreign key relationships for a specific table"
    }
   },
   "outputs": [
    {
     "output_type": "display_data",
     "data": {
      "text/html": [
       "<style scoped>\n",
       "  .table-result-container {\n",
       "    max-height: 300px;\n",
       "    overflow: auto;\n",
       "  }\n",
       "  table, th, td {\n",
       "    border: 1px solid black;\n",
       "    border-collapse: collapse;\n",
       "  }\n",
       "  th, td {\n",
       "    padding: 5px;\n",
       "  }\n",
       "  th {\n",
       "    text-align: left;\n",
       "  }\n",
       "</style><div class='table-result-container'><table class='table-result'><thead style='background-color: white'><tr><th>constraint_type</th><th>constraint_name</th><th>unique_constraint_name</th><th>child_catalog_name</th><th>child_schema_name</th><th>parent_table_name</th><th>parent_table_column_name</th><th>ordinal_position</th><th>position_in_unique_constraint</th><th>parent_catalog_name</th><th>parent_schema_name</th><th>parent_table_name</th><th>parent_table_column_name</th></tr></thead><tbody><tr><td>FOREIGN KEY</td><td>pets2_persons2_fk</td><td>persons2_pk</td><td>prasad_kona_dev</td><td>default</td><td>pets2</td><td>owner_first_name</td><td>1</td><td>1</td><td>prasad_kona_dev</td><td>default</td><td>persons2</td><td>first_name</td></tr><tr><td>FOREIGN KEY</td><td>pets2_persons2_fk</td><td>persons2_pk</td><td>prasad_kona_dev</td><td>default</td><td>pets2</td><td>owner_last_name</td><td>2</td><td>2</td><td>prasad_kona_dev</td><td>default</td><td>persons2</td><td>last_name</td></tr></tbody></table></div>"
      ]
     },
     "metadata": {
      "application/vnd.databricks.v1+output": {
       "addedWidgets": {},
       "aggData": [],
       "aggError": "",
       "aggOverflow": false,
       "aggSchema": [],
       "aggSeriesLimitReached": false,
       "aggType": "",
       "arguments": {},
       "columnCustomDisplayInfos": {},
       "data": [
        [
         "FOREIGN KEY",
         "pets2_persons2_fk",
         "persons2_pk",
         "prasad_kona_dev",
         "default",
         "pets2",
         "owner_first_name",
         1,
         1,
         "prasad_kona_dev",
         "default",
         "persons2",
         "first_name"
        ],
        [
         "FOREIGN KEY",
         "pets2_persons2_fk",
         "persons2_pk",
         "prasad_kona_dev",
         "default",
         "pets2",
         "owner_last_name",
         2,
         2,
         "prasad_kona_dev",
         "default",
         "persons2",
         "last_name"
        ]
       ],
       "datasetInfos": [
        {
         "name": "_sqldf",
         "schema": {
          "fields": [
           {
            "metadata": {
             "comment": "One of 'CHECK', 'PRIMARY KEY', 'FOREIGN KEY'"
            },
            "name": "constraint_type",
            "nullable": false,
            "type": "string"
           },
           {
            "metadata": {
             "comment": "Name of the check constraint."
            },
            "name": "constraint_name",
            "nullable": false,
            "type": "string"
           },
           {
            "metadata": {
             "comment": "Name of the referenced constraint."
            },
            "name": "unique_constraint_name",
            "nullable": false,
            "type": "string"
           },
           {
            "metadata": {
             "comment": "Catalog containing the table."
            },
            "name": "child_catalog_name",
            "nullable": false,
            "type": "string"
           },
           {
            "metadata": {
             "comment": "Schema containing the table."
            },
            "name": "child_schema_name",
            "nullable": false,
            "type": "string"
           },
           {
            "metadata": {
             "comment": "Name of the table in which the constraint is defined."
            },
            "name": "parent_table_name",
            "nullable": false,
            "type": "string"
           },
           {
            "metadata": {
             "comment": "Name of the column."
            },
            "name": "parent_table_column_name",
            "nullable": false,
            "type": "string"
           },
           {
            "metadata": {
             "comment": "Position (1-based) of the column in the key."
            },
            "name": "ordinal_position",
            "nullable": false,
            "type": "integer"
           },
           {
            "metadata": {
             "comment": "For foreign key, position (1-based) of the column in parent unique or primary key constraint, NULL otherwise."
            },
            "name": "position_in_unique_constraint",
            "nullable": true,
            "type": "integer"
           },
           {
            "metadata": {
             "comment": "Catalog containing the table."
            },
            "name": "parent_catalog_name",
            "nullable": false,
            "type": "string"
           },
           {
            "metadata": {
             "comment": "Schema containing the table."
            },
            "name": "parent_schema_name",
            "nullable": false,
            "type": "string"
           },
           {
            "metadata": {
             "comment": "Name of the table in which the constraint is defined."
            },
            "name": "parent_table_name",
            "nullable": false,
            "type": "string"
           },
           {
            "metadata": {
             "comment": "Name of the column."
            },
            "name": "parent_table_column_name",
            "nullable": false,
            "type": "string"
           }
          ],
          "type": "struct"
         },
         "tableIdentifier": null,
         "typeStr": "pyspark.sql.connect.dataframe.DataFrame"
        }
       ],
       "dbfsResultPath": null,
       "isJsonSchema": true,
       "metadata": {
        "createTempViewForImplicitDf": true,
        "dataframeName": "_sqldf",
        "executionCount": 12
       },
       "overflow": false,
       "plotOptions": {
        "customPlotOptions": {},
        "displayType": "table",
        "pivotAggregation": null,
        "pivotColumns": null,
        "xColumns": null,
        "yColumns": null
       },
       "removedWidgets": [],
       "schema": [
        {
         "metadata": "{\"comment\": \"One of 'CHECK', 'PRIMARY KEY', 'FOREIGN KEY'\"}",
         "name": "constraint_type",
         "type": "\"string\""
        },
        {
         "metadata": "{\"comment\": \"Name of the check constraint.\"}",
         "name": "constraint_name",
         "type": "\"string\""
        },
        {
         "metadata": "{\"comment\": \"Name of the referenced constraint.\"}",
         "name": "unique_constraint_name",
         "type": "\"string\""
        },
        {
         "metadata": "{\"comment\": \"Catalog containing the table.\"}",
         "name": "child_catalog_name",
         "type": "\"string\""
        },
        {
         "metadata": "{\"comment\": \"Schema containing the table.\"}",
         "name": "child_schema_name",
         "type": "\"string\""
        },
        {
         "metadata": "{\"comment\": \"Name of the table in which the constraint is defined.\"}",
         "name": "parent_table_name",
         "type": "\"string\""
        },
        {
         "metadata": "{\"comment\": \"Name of the column.\"}",
         "name": "parent_table_column_name",
         "type": "\"string\""
        },
        {
         "metadata": "{\"comment\": \"Position (1-based) of the column in the key.\"}",
         "name": "ordinal_position",
         "type": "\"integer\""
        },
        {
         "metadata": "{\"comment\": \"For foreign key, position (1-based) of the column in parent unique or primary key constraint, NULL otherwise.\"}",
         "name": "position_in_unique_constraint",
         "type": "\"integer\""
        },
        {
         "metadata": "{\"comment\": \"Catalog containing the table.\"}",
         "name": "parent_catalog_name",
         "type": "\"string\""
        },
        {
         "metadata": "{\"comment\": \"Schema containing the table.\"}",
         "name": "parent_schema_name",
         "type": "\"string\""
        },
        {
         "metadata": "{\"comment\": \"Name of the table in which the constraint is defined.\"}",
         "name": "parent_table_name",
         "type": "\"string\""
        },
        {
         "metadata": "{\"comment\": \"Name of the column.\"}",
         "name": "parent_table_column_name",
         "type": "\"string\""
        }
       ],
       "type": "table"
      }
     },
     "output_type": "display_data"
    }
   ],
   "source": [
    "%sql\n",
    "-- Query to list all foreign key relationships for a specific table in the specified schema/catalog\n",
    "\n",
    "use catalog prasad_kona_dev; -- Replace with your actual catalog name\n",
    "\n",
    "select\n",
    "  tc.constraint_type,\n",
    "  rc.constraint_name,\n",
    "  rc.unique_constraint_name,\n",
    "  kcu_fk.table_catalog as child_catalog_name,\n",
    "  kcu_fk.table_schema as child_schema_name,\n",
    "  kcu_fk.table_name as parent_table_name,\n",
    "  kcu_fk.column_name as parent_table_column_name,\n",
    "  kcu_fk.ordinal_position,\n",
    "  kcu_fk.position_in_unique_constraint,\n",
    "  kcu_pk.table_catalog as parent_catalog_name,\n",
    "  kcu_pk.table_schema as parent_schema_name,\n",
    "  kcu_pk.table_name as parent_table_name,\n",
    "  kcu_pk.column_name as parent_table_column_name\n",
    "from\n",
    "  information_schema.referential_constraints rc\n",
    "  join information_schema.key_column_usage kcu_fk on rc.constraint_name = kcu_fk.constraint_name\n",
    "  join information_schema.key_column_usage kcu_pk on rc.unique_constraint_name = kcu_pk.constraint_name\n",
    "  and kcu_fk.position_in_unique_constraint = kcu_pk.ordinal_position\n",
    "  join information_schema.table_constraints tc on rc.constraint_name = tc.constraint_name\n",
    "\n",
    "WHERE kcu_fk.table_schema = 'default' -- Specify the schema name here\n",
    "    AND kcu_fk.table_name ='pets2' -- Replace with your actual table name\n",
    "    AND tc.constraint_type = 'FOREIGN KEY'\n",
    "ORDER BY kcu_fk.ordinal_position asc, kcu_fk.table_catalog, kcu_fk.table_schema, kcu_fk.table_name, kcu_fk.column_name;\n",
    "\n",
    "\n"
   ]
  },
  {
   "cell_type": "code",
   "execution_count": 0,
   "metadata": {
    "application/vnd.databricks.v1+cell": {
     "cellMetadata": {
      "byteLimit": 2048000,
      "implicitDf": true,
      "rowLimit": 10000
     },
     "inputWidgets": {},
     "nuid": "d09d3be7-ff46-4032-adec-62579b8a4c46",
     "showTitle": true,
     "title": "Query to list primary key constraints for a specific table"
    }
   },
   "outputs": [
    {
     "output_type": "display_data",
     "data": {
      "text/html": [
       "<style scoped>\n",
       "  .table-result-container {\n",
       "    max-height: 300px;\n",
       "    overflow: auto;\n",
       "  }\n",
       "  table, th, td {\n",
       "    border: 1px solid black;\n",
       "    border-collapse: collapse;\n",
       "  }\n",
       "  th, td {\n",
       "    padding: 5px;\n",
       "  }\n",
       "  th {\n",
       "    text-align: left;\n",
       "  }\n",
       "</style><div class='table-result-container'><table class='table-result'><thead style='background-color: white'><tr><th>constraint_type</th><th>constraint_name</th><th>catalog_name</th><th>schema_name</th><th>table_name</th><th>column_name</th><th>ordinal_position</th></tr></thead><tbody><tr><td>PRIMARY KEY</td><td>persons2_pk</td><td>prasad_kona_dev</td><td>default</td><td>persons2</td><td>first_name</td><td>1</td></tr><tr><td>PRIMARY KEY</td><td>persons2_pk</td><td>prasad_kona_dev</td><td>default</td><td>persons2</td><td>last_name</td><td>2</td></tr></tbody></table></div>"
      ]
     },
     "metadata": {
      "application/vnd.databricks.v1+output": {
       "addedWidgets": {},
       "aggData": [],
       "aggError": "",
       "aggOverflow": false,
       "aggSchema": [],
       "aggSeriesLimitReached": false,
       "aggType": "",
       "arguments": {},
       "columnCustomDisplayInfos": {},
       "data": [
        [
         "PRIMARY KEY",
         "persons2_pk",
         "prasad_kona_dev",
         "default",
         "persons2",
         "first_name",
         1
        ],
        [
         "PRIMARY KEY",
         "persons2_pk",
         "prasad_kona_dev",
         "default",
         "persons2",
         "last_name",
         2
        ]
       ],
       "datasetInfos": [
        {
         "name": "_sqldf",
         "schema": {
          "fields": [
           {
            "metadata": {
             "comment": "One of 'CHECK', 'PRIMARY KEY', 'FOREIGN KEY'"
            },
            "name": "constraint_type",
            "nullable": false,
            "type": "string"
           },
           {
            "metadata": {
             "comment": "Name of the constraint."
            },
            "name": "constraint_name",
            "nullable": false,
            "type": "string"
           },
           {
            "metadata": {
             "comment": "Catalog containing the table."
            },
            "name": "catalog_name",
            "nullable": false,
            "type": "string"
           },
           {
            "metadata": {
             "comment": "Schema containing the table."
            },
            "name": "schema_name",
            "nullable": false,
            "type": "string"
           },
           {
            "metadata": {
             "comment": "Name of the table in which the constraint is defined."
            },
            "name": "table_name",
            "nullable": false,
            "type": "string"
           },
           {
            "metadata": {
             "comment": "Name of the column."
            },
            "name": "column_name",
            "nullable": false,
            "type": "string"
           },
           {
            "metadata": {
             "comment": "Position (1-based) of the column in the key."
            },
            "name": "ordinal_position",
            "nullable": false,
            "type": "integer"
           }
          ],
          "type": "struct"
         },
         "tableIdentifier": null,
         "typeStr": "pyspark.sql.connect.dataframe.DataFrame"
        }
       ],
       "dbfsResultPath": null,
       "isJsonSchema": true,
       "metadata": {
        "createTempViewForImplicitDf": true,
        "dataframeName": "_sqldf",
        "executionCount": 5
       },
       "overflow": false,
       "plotOptions": {
        "customPlotOptions": {},
        "displayType": "table",
        "pivotAggregation": null,
        "pivotColumns": null,
        "xColumns": null,
        "yColumns": null
       },
       "removedWidgets": [],
       "schema": [
        {
         "metadata": "{\"comment\": \"One of 'CHECK', 'PRIMARY KEY', 'FOREIGN KEY'\"}",
         "name": "constraint_type",
         "type": "\"string\""
        },
        {
         "metadata": "{\"comment\": \"Name of the constraint.\"}",
         "name": "constraint_name",
         "type": "\"string\""
        },
        {
         "metadata": "{\"comment\": \"Catalog containing the table.\"}",
         "name": "catalog_name",
         "type": "\"string\""
        },
        {
         "metadata": "{\"comment\": \"Schema containing the table.\"}",
         "name": "schema_name",
         "type": "\"string\""
        },
        {
         "metadata": "{\"comment\": \"Name of the table in which the constraint is defined.\"}",
         "name": "table_name",
         "type": "\"string\""
        },
        {
         "metadata": "{\"comment\": \"Name of the column.\"}",
         "name": "column_name",
         "type": "\"string\""
        },
        {
         "metadata": "{\"comment\": \"Position (1-based) of the column in the key.\"}",
         "name": "ordinal_position",
         "type": "\"integer\""
        }
       ],
       "type": "table"
      }
     },
     "output_type": "display_data"
    }
   ],
   "source": [
    "%sql\n",
    "\n",
    "-- Query to list primary key constraints for a specific table in the specified schema/catalog\n",
    "\n",
    "use catalog prasad_kona_dev; -- Replace with your actual catalog name\n",
    "\n",
    "select\n",
    "  tc.constraint_type as constraint_type,\n",
    "  tc.constraint_name as constraint_name,\n",
    "  tc.table_catalog as catalog_name,\n",
    "  tc.table_schema as schema_name,\n",
    "  tc.table_name as table_name,\n",
    "  kcu.column_name as column_name,\n",
    "  kcu.ordinal_position as ordinal_position\n",
    "from\n",
    "  information_schema.table_constraints tc\n",
    "  join information_schema.key_column_usage kcu on tc.constraint_name = kcu.constraint_name\n",
    "WHERE tc.table_schema = 'default' -- Specify the schema name here\n",
    "    AND tc.table_name ='persons2' -- Replace with your actual table name\n",
    "   AND tc.constraint_type = 'PRIMARY KEY'\n",
    "ORDER BY kcu.ordinal_position asc, tc.table_catalog, tc.table_schema, tc.table_name, kcu.column_name;"
   ]
  },
  {
   "cell_type": "code",
   "execution_count": 0,
   "metadata": {
    "application/vnd.databricks.v1+cell": {
     "cellMetadata": {
      "byteLimit": 2048000,
      "implicitDf": true,
      "rowLimit": 10000
     },
     "inputWidgets": {},
     "nuid": "3410038b-682b-48fc-8384-2c11f5cb32c3",
     "showTitle": false,
     "title": ""
    }
   },
   "outputs": [
    {
     "output_type": "display_data",
     "data": {
      "text/html": [
       "<style scoped>\n",
       "  .table-result-container {\n",
       "    max-height: 300px;\n",
       "    overflow: auto;\n",
       "  }\n",
       "  table, th, td {\n",
       "    border: 1px solid black;\n",
       "    border-collapse: collapse;\n",
       "  }\n",
       "  th, td {\n",
       "    padding: 5px;\n",
       "  }\n",
       "  th {\n",
       "    text-align: left;\n",
       "  }\n",
       "</style><div class='table-result-container'><table class='table-result'><thead style='background-color: white'><tr><th>num_affected_rows</th><th>num_inserted_rows</th></tr></thead><tbody><tr><td>2</td><td>2</td></tr></tbody></table></div>"
      ]
     },
     "metadata": {
      "application/vnd.databricks.v1+output": {
       "addedWidgets": {},
       "aggData": [],
       "aggError": "",
       "aggOverflow": false,
       "aggSchema": [],
       "aggSeriesLimitReached": false,
       "aggType": "",
       "arguments": {},
       "columnCustomDisplayInfos": {},
       "data": [
        [
         2,
         2
        ]
       ],
       "datasetInfos": [
        {
         "name": "_sqldf",
         "schema": {
          "fields": [
           {
            "metadata": {},
            "name": "num_affected_rows",
            "nullable": true,
            "type": "long"
           },
           {
            "metadata": {},
            "name": "num_inserted_rows",
            "nullable": true,
            "type": "long"
           }
          ],
          "type": "struct"
         },
         "tableIdentifier": null,
         "typeStr": "pyspark.sql.connect.dataframe.DataFrame"
        }
       ],
       "dbfsResultPath": null,
       "isJsonSchema": true,
       "metadata": {
        "dataframeName": "_sqldf",
        "executionCount": 79
       },
       "overflow": false,
       "plotOptions": {
        "customPlotOptions": {},
        "displayType": "table",
        "pivotAggregation": null,
        "pivotColumns": null,
        "xColumns": null,
        "yColumns": null
       },
       "removedWidgets": [],
       "schema": [
        {
         "metadata": "{}",
         "name": "num_affected_rows",
         "type": "\"long\""
        },
        {
         "metadata": "{}",
         "name": "num_inserted_rows",
         "type": "\"long\""
        }
       ],
       "type": "table"
      }
     },
     "output_type": "display_data"
    }
   ],
   "source": [
    "%sql\n",
    "use catalog prasad_kona_dev;\n",
    "use schema default;\n",
    "insert into persons2 values ('f1','l1','nickname1'), ('f2','l2','nickname2');"
   ]
  },
  {
   "cell_type": "code",
   "execution_count": 0,
   "metadata": {
    "application/vnd.databricks.v1+cell": {
     "cellMetadata": {
      "byteLimit": 2048000,
      "implicitDf": true,
      "rowLimit": 10000
     },
     "inputWidgets": {},
     "nuid": "5c66e329-4d85-4bce-a664-708aec752cfa",
     "showTitle": false,
     "title": ""
    }
   },
   "outputs": [
    {
     "output_type": "display_data",
     "data": {
      "text/html": [
       "<style scoped>\n",
       "  .table-result-container {\n",
       "    max-height: 300px;\n",
       "    overflow: auto;\n",
       "  }\n",
       "  table, th, td {\n",
       "    border: 1px solid black;\n",
       "    border-collapse: collapse;\n",
       "  }\n",
       "  th, td {\n",
       "    padding: 5px;\n",
       "  }\n",
       "  th {\n",
       "    text-align: left;\n",
       "  }\n",
       "</style><div class='table-result-container'><table class='table-result'><thead style='background-color: white'><tr><th>num_affected_rows</th><th>num_inserted_rows</th></tr></thead><tbody><tr><td>2</td><td>2</td></tr></tbody></table></div>"
      ]
     },
     "metadata": {
      "application/vnd.databricks.v1+output": {
       "addedWidgets": {},
       "aggData": [],
       "aggError": "",
       "aggOverflow": false,
       "aggSchema": [],
       "aggSeriesLimitReached": false,
       "aggType": "",
       "arguments": {},
       "columnCustomDisplayInfos": {},
       "data": [
        [
         2,
         2
        ]
       ],
       "datasetInfos": [
        {
         "name": "_sqldf",
         "schema": {
          "fields": [
           {
            "metadata": {},
            "name": "num_affected_rows",
            "nullable": true,
            "type": "long"
           },
           {
            "metadata": {},
            "name": "num_inserted_rows",
            "nullable": true,
            "type": "long"
           }
          ],
          "type": "struct"
         },
         "tableIdentifier": null,
         "typeStr": "pyspark.sql.connect.dataframe.DataFrame"
        }
       ],
       "dbfsResultPath": null,
       "isJsonSchema": true,
       "metadata": {
        "dataframeName": "_sqldf",
        "executionCount": 81
       },
       "overflow": false,
       "plotOptions": {
        "customPlotOptions": {},
        "displayType": "table",
        "pivotAggregation": null,
        "pivotColumns": null,
        "xColumns": null,
        "yColumns": null
       },
       "removedWidgets": [],
       "schema": [
        {
         "metadata": "{}",
         "name": "num_affected_rows",
         "type": "\"long\""
        },
        {
         "metadata": "{}",
         "name": "num_inserted_rows",
         "type": "\"long\""
        }
       ],
       "type": "table"
      }
     },
     "output_type": "display_data"
    }
   ],
   "source": [
    "%sql\n",
    "use catalog prasad_kona_dev;\n",
    "use schema default;\n",
    "insert into pets2 values ('pet1','f1','l1'), ('pet2','f3','l3');"
   ]
  },
  {
   "cell_type": "code",
   "execution_count": 0,
   "metadata": {
    "application/vnd.databricks.v1+cell": {
     "cellMetadata": {
      "byteLimit": 2048000,
      "implicitDf": true,
      "rowLimit": 10000
     },
     "inputWidgets": {},
     "nuid": "a86de006-91cb-4b5a-8cbf-cd7b86c2686e",
     "showTitle": false,
     "title": ""
    }
   },
   "outputs": [
    {
     "output_type": "display_data",
     "data": {
      "text/html": [
       "<style scoped>\n",
       "  .table-result-container {\n",
       "    max-height: 300px;\n",
       "    overflow: auto;\n",
       "  }\n",
       "  table, th, td {\n",
       "    border: 1px solid black;\n",
       "    border-collapse: collapse;\n",
       "  }\n",
       "  th, td {\n",
       "    padding: 5px;\n",
       "  }\n",
       "  th {\n",
       "    text-align: left;\n",
       "  }\n",
       "</style><div class='table-result-container'><table class='table-result'><thead style='background-color: white'><tr><th>first_name</th><th>last_name</th><th>nickname</th><th>pet_name</th></tr></thead><tbody><tr><td>f1</td><td>l1</td><td>nickname1</td><td>pet1</td></tr></tbody></table></div>"
      ]
     },
     "metadata": {
      "application/vnd.databricks.v1+output": {
       "addedWidgets": {},
       "aggData": [],
       "aggError": "",
       "aggOverflow": false,
       "aggSchema": [],
       "aggSeriesLimitReached": false,
       "aggType": "",
       "arguments": {},
       "columnCustomDisplayInfos": {},
       "data": [
        [
         "f1",
         "l1",
         "nickname1",
         "pet1"
        ]
       ],
       "datasetInfos": [
        {
         "name": "_sqldf",
         "schema": {
          "fields": [
           {
            "metadata": {},
            "name": "first_name",
            "nullable": false,
            "type": "string"
           },
           {
            "metadata": {},
            "name": "last_name",
            "nullable": false,
            "type": "string"
           },
           {
            "metadata": {},
            "name": "nickname",
            "nullable": true,
            "type": "string"
           },
           {
            "metadata": {},
            "name": "pet_name",
            "nullable": true,
            "type": "string"
           }
          ],
          "type": "struct"
         },
         "tableIdentifier": null,
         "typeStr": "pyspark.sql.connect.dataframe.DataFrame"
        }
       ],
       "dbfsResultPath": null,
       "isJsonSchema": true,
       "metadata": {
        "dataframeName": "_sqldf",
        "executionCount": 83
       },
       "overflow": false,
       "plotOptions": {
        "customPlotOptions": {},
        "displayType": "table",
        "pivotAggregation": null,
        "pivotColumns": null,
        "xColumns": null,
        "yColumns": null
       },
       "removedWidgets": [],
       "schema": [
        {
         "metadata": "{}",
         "name": "first_name",
         "type": "\"string\""
        },
        {
         "metadata": "{}",
         "name": "last_name",
         "type": "\"string\""
        },
        {
         "metadata": "{}",
         "name": "nickname",
         "type": "\"string\""
        },
        {
         "metadata": "{}",
         "name": "pet_name",
         "type": "\"string\""
        }
       ],
       "type": "table"
      }
     },
     "output_type": "display_data"
    }
   ],
   "source": [
    "%sql\n",
    "SELECT p2.*, pt2.name AS pet_name\n",
    "FROM prasad_kona_dev.default.persons2 p2\n",
    "JOIN prasad_kona_dev.default.pets2 pt2\n",
    "  ON p2.first_name = pt2.owner_first_name \n",
    "  AND p2.last_name = pt2.owner_last_name;"
   ]
  },
  {
   "cell_type": "markdown",
   "metadata": {
    "application/vnd.databricks.v1+cell": {
     "cellMetadata": {},
     "inputWidgets": {},
     "nuid": "51666bc9-add2-4b4e-b032-a23363d6a850",
     "showTitle": false,
     "title": ""
    }
   },
   "source": [
    "Get table properties using rest api"
   ]
  },
  {
   "cell_type": "code",
   "execution_count": 0,
   "metadata": {
    "application/vnd.databricks.v1+cell": {
     "cellMetadata": {
      "byteLimit": 2048000,
      "implicitDf": true,
      "rowLimit": 10000
     },
     "inputWidgets": {},
     "nuid": "f7073116-1f2f-4665-951b-e0f1d9f01f0c",
     "showTitle": true,
     "title": "Using Rest api to query for UC table metadata"
    }
   },
   "outputs": [],
   "source": [
    "import requests\n",
    "\n",
    "def get_table_properties(full_table_name):\n",
    "    access_token = dbutils.secrets.get(scope=\"prasad_kona\", key=\"databricks_user_token\")\n",
    "    databricks_hostname = \"e2-demo-field-eng.cloud.databricks.com\"\n",
    "    response = requests.get(f\"https://{databricks_hostname}/api/2.1/unity-catalog/tables/{full_table_name}\",\n",
    "                            headers={\"Authorization\": f\"Bearer {access_token}\"})\n",
    "    table_properties = response.json()\n",
    "    return table_properties\n",
    "\n"
   ]
  },
  {
   "cell_type": "markdown",
   "metadata": {
    "application/vnd.databricks.v1+cell": {
     "cellMetadata": {},
     "inputWidgets": {},
     "nuid": "3afd2727-447f-4ec0-8735-ffabf928cde8",
     "showTitle": false,
     "title": ""
    }
   },
   "source": [
    "example showing extracting foreign key metadata"
   ]
  },
  {
   "cell_type": "code",
   "execution_count": 0,
   "metadata": {
    "application/vnd.databricks.v1+cell": {
     "cellMetadata": {
      "byteLimit": 2048000,
      "rowLimit": 10000
     },
     "inputWidgets": {},
     "nuid": "c9cc59bf-c751-4e9d-a516-72bc6a120dcb",
     "showTitle": false,
     "title": ""
    }
   },
   "outputs": [
    {
     "output_type": "stream",
     "name": "stdout",
     "output_type": "stream",
     "text": [
      "{'name': 'pets2', 'catalog_name': 'prasad_kona_dev', 'schema_name': 'default', 'table_type': 'MANAGED', 'data_source_format': 'DELTA', 'columns': [{'name': 'name', 'type_text': 'string', 'type_name': 'STRING', 'position': 0, 'type_precision': 0, 'type_scale': 0, 'type_json': '{\"name\":\"name\",\"type\":\"string\",\"nullable\":true,\"metadata\":{}}', 'nullable': True}, {'name': 'owner_first_name', 'type_text': 'string', 'type_name': 'STRING', 'position': 1, 'type_precision': 0, 'type_scale': 0, 'type_json': '{\"name\":\"owner_first_name\",\"type\":\"string\",\"nullable\":true,\"metadata\":{}}', 'nullable': True}, {'name': 'owner_last_name', 'type_text': 'string', 'type_name': 'STRING', 'position': 2, 'type_precision': 0, 'type_scale': 0, 'type_json': '{\"name\":\"owner_last_name\",\"type\":\"string\",\"nullable\":true,\"metadata\":{}}', 'nullable': True}], 'storage_location': 's3://databricks-e2demofieldengwest/b169b504-4c54-49f2-bc3a-adf4b128f36d/tables/b3162fc3-0fc0-4d14-83fb-34c33d220f63', 'owner': 'prasad.kona@databricks.com', 'properties': {'delta.lastCommitTimestamp': '1728497890000', 'delta.lastUpdateVersion': '0', 'delta.minWriterVersion': '7', 'delta.enableDeletionVectors': 'true', 'delta.minReaderVersion': '3', 'delta.feature.deletionVectors': 'supported'}, 'table_constraints': [{'foreign_key_constraint': {'name': 'pets2_persons2_fk', 'child_columns': ['owner_first_name', 'owner_last_name'], 'parent_table': 'prasad_kona_dev.default.persons2', 'parent_columns': ['first_name', 'last_name']}, 'constraint_id': '52ae41fa-a446-4e30-a4cc-80b4f103a608', 'table_id': 'b3162fc3-0fc0-4d14-83fb-34c33d220f63'}], 'securable_kind': 'TABLE_DELTA', 'enable_auto_maintenance': 'INHERIT', 'enable_predictive_optimization': 'INHERIT', 'properties_pairs': {'properties': {'delta.lastCommitTimestamp': '1728497890000', 'delta.lastUpdateVersion': '0', 'delta.minWriterVersion': '7', 'delta.enableDeletionVectors': 'true', 'delta.minReaderVersion': '3', 'delta.feature.deletionVectors': 'supported'}}, 'generation': 0, 'metastore_id': 'b169b504-4c54-49f2-bc3a-adf4b128f36d', 'full_name': 'prasad_kona_dev.default.pets2', 'data_access_configuration_id': '00000000-0000-0000-0000-000000000000', 'created_at': 1728497890618, 'created_by': 'prasad.kona@databricks.com', 'updated_at': 1728497890635, 'updated_by': 'prasad.kona@databricks.com', 'table_id': 'b3162fc3-0fc0-4d14-83fb-34c33d220f63', 'delta_runtime_properties_kvpairs': {}, 'securable_type': 'TABLE', 'effective_auto_maintenance_flag': {'value': 'ENABLE', 'inherited_from_type': 'METASTORE', 'inherited_from_name': 'unity-catalog-demo'}, 'effective_predictive_optimization_flag': {'value': 'ENABLE', 'inherited_from_type': 'METASTORE', 'inherited_from_name': 'unity-catalog-demo'}, 'browse_only': False}\n"
     ]
    }
   ],
   "source": [
    "# Example usage\n",
    "full_table_name = \"prasad_kona_dev.default.pets2\"\n",
    "table_properties = get_table_properties(full_table_name)\n",
    "print(table_properties)"
   ]
  },
  {
   "cell_type": "code",
   "execution_count": 0,
   "metadata": {
    "application/vnd.databricks.v1+cell": {
     "cellMetadata": {
      "byteLimit": 2048000,
      "rowLimit": 10000
     },
     "inputWidgets": {},
     "nuid": "3d9f3142-fef6-4893-8e81-02075e91b4fd",
     "showTitle": false,
     "title": ""
    }
   },
   "outputs": [
    {
     "output_type": "stream",
     "name": "stdout",
     "output_type": "stream",
     "text": [
      "[{'foreign_key_constraint': {'name': 'pets2_persons2_fk', 'child_columns': ['owner_first_name', 'owner_last_name'], 'parent_table': 'prasad_kona_dev.default.persons2', 'parent_columns': ['first_name', 'last_name']}, 'constraint_id': '52ae41fa-a446-4e30-a4cc-80b4f103a608', 'table_id': 'b3162fc3-0fc0-4d14-83fb-34c33d220f63'}]\n"
     ]
    }
   ],
   "source": [
    "# Extracting table_constraints\n",
    "table_constraints = table_properties['table_constraints']\n",
    "print(table_constraints)"
   ]
  },
  {
   "cell_type": "markdown",
   "metadata": {
    "application/vnd.databricks.v1+cell": {
     "cellMetadata": {},
     "inputWidgets": {},
     "nuid": "d2ef213e-957e-405b-992b-6d94921f566c",
     "showTitle": false,
     "title": ""
    }
   },
   "source": [
    "example showing extracting primary key metadata"
   ]
  },
  {
   "cell_type": "code",
   "execution_count": 0,
   "metadata": {
    "application/vnd.databricks.v1+cell": {
     "cellMetadata": {
      "byteLimit": 2048000,
      "rowLimit": 10000
     },
     "inputWidgets": {},
     "nuid": "7b5c9d06-a143-431e-887f-cb7ba3ca1036",
     "showTitle": false,
     "title": ""
    }
   },
   "outputs": [
    {
     "output_type": "stream",
     "name": "stdout",
     "output_type": "stream",
     "text": [
      "{'name': 'persons2', 'catalog_name': 'prasad_kona_dev', 'schema_name': 'default', 'table_type': 'MANAGED', 'data_source_format': 'DELTA', 'columns': [{'name': 'first_name', 'type_text': 'string', 'type_name': 'STRING', 'position': 0, 'type_precision': 0, 'type_scale': 0, 'type_json': '{\"name\":\"first_name\",\"type\":\"string\",\"nullable\":false,\"metadata\":{}}', 'nullable': False}, {'name': 'last_name', 'type_text': 'string', 'type_name': 'STRING', 'position': 1, 'type_precision': 0, 'type_scale': 0, 'type_json': '{\"name\":\"last_name\",\"type\":\"string\",\"nullable\":false,\"metadata\":{}}', 'nullable': False}, {'name': 'nickname', 'type_text': 'string', 'type_name': 'STRING', 'position': 2, 'type_precision': 0, 'type_scale': 0, 'type_json': '{\"name\":\"nickname\",\"type\":\"string\",\"nullable\":true,\"metadata\":{}}', 'nullable': True}], 'storage_location': 's3://databricks-e2demofieldengwest/b169b504-4c54-49f2-bc3a-adf4b128f36d/tables/6f0dc1eb-9c4c-46f7-a96f-8d1e76a3f610', 'owner': 'prasad.kona@databricks.com', 'properties': {'delta.lastCommitTimestamp': '1728497743000', 'delta.lastUpdateVersion': '0', 'delta.minWriterVersion': '7', 'delta.enableDeletionVectors': 'true', 'delta.minReaderVersion': '3', 'delta.feature.deletionVectors': 'supported', 'delta.feature.invariants': 'supported'}, 'table_constraints': [{'primary_key_constraint': {'name': 'persons2_pk', 'child_columns': ['first_name', 'last_name']}, 'constraint_id': 'e405f448-cbaa-46d6-84de-07252335f764', 'table_id': '6f0dc1eb-9c4c-46f7-a96f-8d1e76a3f610'}], 'securable_kind': 'TABLE_DELTA', 'enable_auto_maintenance': 'INHERIT', 'enable_predictive_optimization': 'INHERIT', 'properties_pairs': {'properties': {'delta.lastCommitTimestamp': '1728497743000', 'delta.lastUpdateVersion': '0', 'delta.minWriterVersion': '7', 'delta.enableDeletionVectors': 'true', 'delta.minReaderVersion': '3', 'delta.feature.deletionVectors': 'supported', 'delta.feature.invariants': 'supported'}}, 'generation': 0, 'metastore_id': 'b169b504-4c54-49f2-bc3a-adf4b128f36d', 'full_name': 'prasad_kona_dev.default.persons2', 'data_access_configuration_id': '00000000-0000-0000-0000-000000000000', 'created_at': 1728497833671, 'created_by': 'prasad.kona@databricks.com', 'updated_at': 1728497833683, 'updated_by': 'prasad.kona@databricks.com', 'table_id': '6f0dc1eb-9c4c-46f7-a96f-8d1e76a3f610', 'delta_runtime_properties_kvpairs': {}, 'securable_type': 'TABLE', 'effective_auto_maintenance_flag': {'value': 'ENABLE', 'inherited_from_type': 'METASTORE', 'inherited_from_name': 'unity-catalog-demo'}, 'effective_predictive_optimization_flag': {'value': 'ENABLE', 'inherited_from_type': 'METASTORE', 'inherited_from_name': 'unity-catalog-demo'}, 'browse_only': False}\n"
     ]
    }
   ],
   "source": [
    "# Example usage\n",
    "full_table_name = \"prasad_kona_dev.default.persons2\"\n",
    "table_properties = get_table_properties(full_table_name)\n",
    "print(table_properties)"
   ]
  },
  {
   "cell_type": "code",
   "execution_count": 0,
   "metadata": {
    "application/vnd.databricks.v1+cell": {
     "cellMetadata": {
      "byteLimit": 2048000,
      "rowLimit": 10000
     },
     "inputWidgets": {},
     "nuid": "52e94cd0-9582-4dfc-9a10-c44428212b51",
     "showTitle": false,
     "title": ""
    }
   },
   "outputs": [
    {
     "output_type": "stream",
     "name": "stdout",
     "output_type": "stream",
     "text": [
      "[{'primary_key_constraint': {'name': 'persons2_pk', 'child_columns': ['first_name', 'last_name']}, 'constraint_id': 'e405f448-cbaa-46d6-84de-07252335f764', 'table_id': '6f0dc1eb-9c4c-46f7-a96f-8d1e76a3f610'}]\n"
     ]
    }
   ],
   "source": [
    "# Extracting table_constraints\n",
    "table_constraints = table_properties['table_constraints']\n",
    "print(table_constraints)"
   ]
  }
 ],
 "metadata": {
  "application/vnd.databricks.v1+notebook": {
   "dashboards": [],
   "environmentMetadata": {
    "base_environment": "",
    "client": "1"
   },
   "language": "python",
   "notebookMetadata": {
    "mostRecentlyExecutedCommandWithImplicitDF": {
     "commandId": 2683910998024286,
     "dataframes": [
      "_sqldf"
     ]
    },
    "pythonIndentUnit": 2
   },
   "notebookName": "sql_example_1  - Query UC metadata for pk-fk constraints",
   "widgets": {}
  }
 },
 "nbformat": 4,
 "nbformat_minor": 0
}
